{
 "metadata": {
  "name": ""
 },
 "nbformat": 3,
 "nbformat_minor": 0,
 "worksheets": [
  {
   "cells": [
    {
     "cell_type": "code",
     "collapsed": false,
     "input": [
      "import IPython\n",
      "import numpy as np\n",
      "import pandas as pd\n",
      "from tsa.science import numpy_ext as npx\n",
      "\n",
      "from sklearn import metrics, cross_validation\n",
      "from sklearn import linear_model\n",
      "\n",
      "from tsa.lib import datetime_extra\n",
      "from tsa.science.plot import plt, figure_path, distinct_styles, ticker\n",
      "from tsa.science import features, models, timeseries\n",
      "from tsa.science.corpora import MulticlassCorpus\n",
      "from tsa.models import Source, Document, create_session"
     ],
     "language": "python",
     "metadata": {},
     "outputs": [],
     "prompt_number": 11
    },
    {
     "cell_type": "code",
     "collapsed": false,
     "input": [
      "full_corpus = MulticlassCorpus(Source.from_name('sb5b', labeled_only=True))\n",
      "full_corpus.apply_labelfunc(lambda doc: doc.label)\n",
      "\n",
      "# ngrams_corpus = MulticlassCorpus.subset()\n",
      "ngrams_features = full_corpus.extract_features(lambda doc: doc.document,\n",
      "                                               features.ngrams,\n",
      "                                               ngram_max=2, min_df=2, max_df=1.0)\n",
      "cooccurrence_features = full_corpus.extract_features(lambda doc: doc.document,\n",
      "                                                     features.cooccurrences,\n",
      "                                                     min_df=3, max_df=0.99)\n",
      "all_features = np.concatenate((ngrams_features, cooccurrence_features))"
     ],
     "language": "python",
     "metadata": {},
     "outputs": [
      {
       "ename": "TypeError",
       "evalue": "only length-1 arrays can be converted to Python scalars",
       "output_type": "pyerr",
       "traceback": [
        "\u001b[0;31m---------------------------------------------------------------------------\u001b[0m\n\u001b[0;31mTypeError\u001b[0m                                 Traceback (most recent call last)",
        "\u001b[0;32m<ipython-input-15-426f0788b5d6>\u001b[0m in \u001b[0;36m<module>\u001b[0;34m()\u001b[0m\n\u001b[1;32m      9\u001b[0m                                                      \u001b[0mfeatures\u001b[0m\u001b[0;34m.\u001b[0m\u001b[0mcooccurrences\u001b[0m\u001b[0;34m,\u001b[0m\u001b[0;34m\u001b[0m\u001b[0m\n\u001b[1;32m     10\u001b[0m                                                      min_df=3, max_df=0.99)\n\u001b[0;32m---> 11\u001b[0;31m \u001b[0mall_features\u001b[0m \u001b[0;34m=\u001b[0m \u001b[0mnp\u001b[0m\u001b[0;34m.\u001b[0m\u001b[0mconcatenate\u001b[0m\u001b[0;34m(\u001b[0m\u001b[0mngrams_features\u001b[0m\u001b[0;34m,\u001b[0m \u001b[0mcooccurrence_features\u001b[0m\u001b[0;34m)\u001b[0m\u001b[0;34m\u001b[0m\u001b[0m\n\u001b[0m",
        "\u001b[0;31mTypeError\u001b[0m: only length-1 arrays can be converted to Python scalars"
       ]
      }
     ],
     "prompt_number": 15
    },
    {
     "cell_type": "code",
     "collapsed": false,
     "input": [
      "polar_classes = [full_corpus.class_lookup[label] for label in ['For', 'Against']]\n",
      "polar_indices = np.in1d(full_corpus.y, polar_classes)\n",
      "polar_corpus = full_corpus.subset(rows=polar_indices)"
     ],
     "language": "python",
     "metadata": {},
     "outputs": [],
     "prompt_number": 6
    },
    {
     "cell_type": "code",
     "collapsed": false,
     "input": [
      "def corpus_mean_accuracy(corpus, penalty='l2', test_size=0.1, n_iter=10):\n",
      "    folds = cross_validation.StratifiedShuffleSplit(corpus.y, test_size=test_size, n_iter=n_iter)\n",
      "    accuracies = []\n",
      "    for fold_index, (train_indices, test_indices) in enumerate(folds):\n",
      "        train_corpus = corpus.subset(train_indices)\n",
      "        test_corpus = corpus.subset(test_indices)\n",
      "    \n",
      "        model = linear_model.LogisticRegression(fit_intercept=False, penalty=penalty)\n",
      "        model.fit(train_corpus.X, train_corpus.y)\n",
      "        pred_y = model.predict(test_corpus.X)\n",
      "        accuracy = metrics.accuracy_score(test_corpus.y, pred_y)\n",
      "        accuracies += [accuracy]\n",
      "    return np.mean(accuracies)"
     ],
     "language": "python",
     "metadata": {},
     "outputs": [],
     "prompt_number": 12
    },
    {
     "cell_type": "code",
     "collapsed": false,
     "input": [
      "feature_sets = [\n",
      "                ('Both', all_features),\n",
      "                ('Ngrams', ngrams_features),\n",
      "                ('Co-occurrences', cooccurrence_features),\n",
      "               ]\n",
      "for name, selected_features in feature_sets:\n",
      "    accuracy = corpus_mean_accuracy(polar_corpus.subset(features=selected_features))\n",
      "    # .replace('%', '\\\\%'),\n",
      "    print '{:s} & {:.2f}\\\\% \\\\\\\\ % {:d} features'.format(name, accuracy * 100, selected_features.size)"
     ],
     "language": "python",
     "metadata": {},
     "outputs": [
      {
       "output_type": "stream",
       "stream": "stdout",
       "text": [
        "Both & 96.02\\% \\\\ % 219152 features\n",
        "Ngrams & 95.94\\% \\\\ % 44456 features"
       ]
      },
      {
       "output_type": "stream",
       "stream": "stdout",
       "text": [
        "\n",
        "Co-occurrences & 95.47\\% \\\\ % 174696 features"
       ]
      },
      {
       "output_type": "stream",
       "stream": "stdout",
       "text": [
        "\n"
       ]
      }
     ],
     "prompt_number": 19
    },
    {
     "cell_type": "code",
     "collapsed": false,
     "input": [
      "cooccurrence_features.size, ngrams_features.size"
     ],
     "language": "python",
     "metadata": {},
     "outputs": [
      {
       "metadata": {},
       "output_type": "pyout",
       "prompt_number": 14,
       "text": [
        "(174696, 44456)"
       ]
      }
     ],
     "prompt_number": 14
    }
   ],
   "metadata": {}
  }
 ]
}