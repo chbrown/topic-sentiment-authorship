{
 "metadata": {
  "name": ""
 },
 "nbformat": 3,
 "nbformat_minor": 0,
 "worksheets": [
  {
   "cells": [
    {
     "cell_type": "code",
     "collapsed": false,
     "input": [
      "import IPython\n",
      "import numpy as np\n",
      "import pandas as pd\n",
      "from tsa.science import numpy_ext as npx\n",
      "\n",
      "from sklearn import metrics, cross_validation\n",
      "from sklearn import linear_model\n",
      "\n",
      "from tsa import stdout, stderr\n",
      "from tsa.lib import tabular, datetime_extra\n",
      "from tsa.lib.timer import Timer\n",
      "from tsa.models import Source, Document, create_session\n",
      "from tsa.science import features, models, timeseries\n",
      "from tsa.science.corpora import MulticlassCorpus\n",
      "from tsa.science.plot import plt, figure_path, distinct_styles, ticker\n",
      "from tsa.science.summarization import metrics_dict, metrics_summary\n",
      "\n",
      "from tsa.data.sb5b import notable_events"
     ],
     "language": "python",
     "metadata": {},
     "outputs": [],
     "prompt_number": 1
    },
    {
     "cell_type": "code",
     "collapsed": false,
     "input": [
      "documents = Source.from_name('sb5b')\n",
      "full_corpus = MulticlassCorpus(documents)\n",
      "full_corpus.apply_labelfunc(lambda doc: doc.label or 'Unlabeled')\n",
      "full_corpus.extract_features(lambda doc: 1, features.intercept)\n",
      "full_corpus.extract_features(lambda doc: doc.document,\n",
      "    features.ngrams, ngram_max=2, min_df=2, max_df=1.0)\n",
      "\n",
      "full_corpus.datetimes = np.array([doc.published for doc in full_corpus.data]).astype('datetime64[s]')\n",
      "\n",
      "print full_corpus"
     ],
     "language": "python",
     "metadata": {},
     "outputs": [
      {
       "output_type": "stream",
       "stream": "stdout",
       "text": [
        "<MulticlassCorpus X = (106702, 202137), y = (106702,)>\n"
       ]
      }
     ],
     "prompt_number": 2
    },
    {
     "cell_type": "code",
     "collapsed": false,
     "input": [
      "polar_classes = [full_corpus.class_lookup[label] for label in ['For', 'Against']]\n",
      "polar_indices = np.in1d(full_corpus.y, polar_classes)\n",
      "polar_corpus = full_corpus.subset(rows=polar_indices)\n",
      "print polar_corpus\n",
      "# unlabeled_corpus = full_corpus.subset(full_corpus.y == full_corpus.class_lookup['Unlabeled'])"
     ],
     "language": "python",
     "metadata": {},
     "outputs": [
      {
       "output_type": "stream",
       "stream": "stdout",
       "text": [
        "<MulticlassCorpus X = (13627, 202137), y = (13627,)>\n"
       ]
      }
     ],
     "prompt_number": 3
    },
    {
     "cell_type": "code",
     "collapsed": false,
     "input": [
      "# notable_events_labels, notable_events_dates = zip(*notable_events)\n",
      "labeled_times = full_corpus.datetimes[polar_indices]\n",
      "labeled_time_bounds = np.array(npx.bounds(labeled_times))"
     ],
     "language": "python",
     "metadata": {},
     "outputs": [],
     "prompt_number": 4
    },
    {
     "cell_type": "code",
     "collapsed": false,
     "input": [
      "penalty = 'l1'\n",
      "model = linear_model.LogisticRegression(fit_intercept=False, penalty=penalty)\n",
      "model.fit(polar_corpus.X, polar_corpus.y)\n",
      "\n",
      "full_pred_y = model.predict(full_corpus.X)\n",
      "full_pred_proba = model.predict_proba(full_corpus.X)\n",
      "# full_pred_proba_max = full_pred_proba.max(axis=1)\n",
      "# full_pred_proba_hmean = npx.hmean(full_pred_proba, axis=1)\n",
      "# unlabeled_pred_y = logreg_model.predict(unlabeled_corpus.X)\n",
      "full_pred_y"
     ],
     "language": "python",
     "metadata": {},
     "outputs": [
      {
       "metadata": {},
       "output_type": "pyout",
       "prompt_number": 5,
       "text": [
        "array([3, 3, 3, ..., 3, 3, 3])"
       ]
      }
     ],
     "prompt_number": 5
    },
    {
     "cell_type": "code",
     "collapsed": false,
     "input": [
      "def time_hist(label, times, values, time_units_per_bin=2, time_unit='D', statistic='count', **style_args):\n",
      "    bin_edges, bin_values = timeseries.binned_timeseries(\n",
      "        times, values,\n",
      "        time_units_per_bin=time_units_per_bin,\n",
      "        time_unit=time_unit, statistic=statistic)\n",
      "    plt.plot(bin_edges, bin_values, label=label, **style_args)"
     ],
     "language": "python",
     "metadata": {},
     "outputs": [],
     "prompt_number": 6
    },
    {
     "cell_type": "markdown",
     "metadata": {},
     "source": [
      "**histogram of for/against across entire period**"
     ]
    },
    {
     "cell_type": "code",
     "collapsed": false,
     "input": [
      "label_styles = [\n",
      "                ('For', dict(linewidth=2, linestyle='-', color='red')),\n",
      "                ('Against', dict(linewidth=2, linestyle='--', color='blue')),\n",
      "               ]\n",
      "\n",
      "for label, styles in label_styles:\n",
      "    datetimes = full_corpus.datetimes[full_pred_y == full_corpus.class_lookup[label]]\n",
      "    time_hist(label, datetimes, datetimes.reshape(-1, 1), 7, 'D', **styles)\n",
      "    \n",
      "plt.title('For / Against labels throughout corpus')\n",
      "plt.ylabel('Frequency')\n",
      "plt.xlabel('Date')\n",
      "# plt.vlines(notable_dates.astype(float), *auto_ylim)\n",
      "plt.axvspan(*labeled_time_bounds.astype(float), edgecolor='none', facecolor='g', alpha=0.05)\n",
      "plt.gcf().set_size_inches(8, 5)\n",
      "plt.gca().yaxis.set_ticks([])\n",
      "plt.gca().xaxis.grid(False) # hide vertical gridlines\n",
      "plt.gca().xaxis.set_major_formatter(ticker.FuncFormatter(datetime_extra.datetime64_formatter))\n",
      "plt.legend(loc='best')\n",
      "# plt.axis('tight')\n",
      "plt.margins(0.025, tight=False)\n",
      "\n",
      "auto_ylim = plt.ylim()\n",
      "\n",
      "for i, (label, date) in enumerate(notable_events):\n",
      "    # http://matplotlib.org/api/pyplot_api.html#matplotlib.pyplot.axvline\n",
      "    x = date.astype('datetime64[s]').astype(float)\n",
      "    plt.axvline(x, color='k') \n",
      "    plt.text(x, auto_ylim[1]*(0.9 - i * 0.1), '- ' + label)\n",
      "\n",
      "plt.savefig(figure_path('for-against-extrapolated.pdf'))"
     ],
     "language": "python",
     "metadata": {},
     "outputs": [
      {
       "metadata": {},
       "output_type": "display_data",
       "png": "[encoded data removed]",
       "text": [
        "<matplotlib.figure.Figure at 0x110bea210>"
       ]
      }
     ],
     "prompt_number": 7
    },
    {
     "cell_type": "code",
     "collapsed": false,
     "input": [
      "# plt.vlines(np.array(notable_events_dates).astype('datetime64[s]').astype(float),\n",
      "#     *auto_ylim, colors='k')"
     ],
     "language": "python",
     "metadata": {},
     "outputs": [],
     "prompt_number": 52
    },
    {
     "cell_type": "code",
     "collapsed": false,
     "input": [
      "plt.cla()\n",
      "styles = distinct_styles()\n",
      "time_hist('', full_corpus_times, full_pred_proba_max.reshape(-1, 1),\n",
      "    statistic='mean', **styles.next())\n",
      "# plt.legend(loc='best')\n",
      "plt.title('Average certainty of prediction')\n",
      "plt.xlabel('Date')\n",
      "plt.axvspan(*labeled_time_bounds.astype(float), edgecolor='none', facecolor='g', alpha=0.05)\n",
      "plt.gcf().set_size_inches(8, 5)\n",
      "axes = plt.gca()\n",
      "axes.xaxis.set_major_formatter(ticker.FuncFormatter(datetime_extra.datetime64_formatter))\n",
      "plt.savefig(figure_path('predict-proba-extrapolated.pdf'))\n"
     ],
     "language": "python",
     "metadata": {},
     "outputs": []
    },
    {
     "cell_type": "code",
     "collapsed": false,
     "input": [],
     "language": "python",
     "metadata": {},
     "outputs": []
    }
   ],
   "metadata": {}
  }
 ]
}