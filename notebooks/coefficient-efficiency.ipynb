{
 "metadata": {
  "name": ""
 },
 "nbformat": 3,
 "nbformat_minor": 0,
 "worksheets": [
  {
   "cells": [
    {
     "cell_type": "code",
     "collapsed": false,
     "input": [
      "import IPython\n",
      "import numpy as np\n",
      "import pandas as pd\n",
      "from tsa.science import numpy_ext as npx\n",
      "\n",
      "import viz\n",
      "import viz.stats\n",
      "import viz.format\n",
      "\n",
      "from sklearn import metrics, cross_validation\n",
      "from sklearn import linear_model\n",
      "from sklearn import naive_bayes\n",
      "from sklearn import svm\n",
      "from sklearn import feature_selection\n",
      "\n",
      "from tsa import stdout, stderr\n",
      "from tsa.lib import tabular, datetime_extra\n",
      "from tsa.lib.timer import Timer\n",
      "from tsa.models import Source, Document, create_session\n",
      "from tsa.science import features, models, timeseries\n",
      "from tsa.science.corpora import MulticlassCorpus\n",
      "from tsa.science.plot import plt, figure_path, distinct_styles, ticker\n",
      "from tsa.science.summarization import metrics_dict, metrics_summary"
     ],
     "language": "python",
     "metadata": {},
     "outputs": [],
     "prompt_number": 89
    },
    {
     "cell_type": "code",
     "collapsed": false,
     "input": [
      "documents = Source.from_name('sb5b')\n",
      "full_corpus = MulticlassCorpus(documents)\n",
      "full_corpus.apply_labelfunc(lambda doc: doc.label)\n",
      "polar_classes = [full_corpus.class_lookup[label] for label in ['For', 'Against']]\n",
      "polar_indices = np.in1d(full_corpus.y, polar_classes)\n",
      "polar_corpus = full_corpus.subset(polar_indices)\n",
      "polar_corpus.extract_features(lambda doc: 1, features.intercept)\n",
      "polar_corpus.extract_features(lambda doc: doc.document, features.ngrams,\n",
      "    ngram_max=2, min_df=2, max_df=1.0)\n",
      "    # ngram_max=2, min_df=0.001, max_df=0.95\n"
     ],
     "language": "python",
     "metadata": {},
     "outputs": [
      {
       "metadata": {},
       "output_type": "pyout",
       "prompt_number": 21,
       "text": [
        "array([    1,     2,     3, ..., 43382, 43383, 43384])"
       ]
      }
     ],
     "prompt_number": 21
    },
    {
     "cell_type": "markdown",
     "metadata": {},
     "source": [
      "### first, find the top 10 features, limit the vocabulary to them, and retest\n"
     ]
    },
    {
     "cell_type": "code",
     "collapsed": false,
     "input": [
      "regularization = 'l2'\n",
      "\n",
      "polar_model = linear_model.LogisticRegression(fit_intercept=False, penalty=regularization)\n",
      "polar_model.fit(polar_corpus.X, polar_corpus.y)\n",
      "\n",
      "# logreg_pred_y = polar_model.predict(polar_corpus.X)\n",
      "# logreg_pred_proba = polar_model.predict_proba(polar_corpus.X)\n"
     ],
     "language": "python",
     "metadata": {},
     "outputs": [
      {
       "metadata": {},
       "output_type": "pyout",
       "prompt_number": 22,
       "text": [
        "LogisticRegression(C=1.0, class_weight=None, dual=False, fit_intercept=False,\n",
        "          intercept_scaling=1, penalty='l2', random_state=None, tol=0.0001)"
       ]
      }
     ],
     "prompt_number": 22
    },
    {
     "cell_type": "code",
     "collapsed": false,
     "input": [
      "coef = polar_model.coef_.ravel()\n",
      "coef_abs_ordering = np.argsort(np.abs(coef))\n",
      "coef[coef_abs_ordering]\n",
      "# from least to greatest"
     ],
     "language": "python",
     "metadata": {},
     "outputs": [
      {
       "metadata": {},
       "output_type": "pyout",
       "prompt_number": 72,
       "text": [
        "array([  1.71409430e-08,   1.71409430e-08,   1.71409430e-08, ...,\n",
        "         2.39119361e+00,   2.42147155e+00,   4.81855113e+00])"
       ]
      }
     ],
     "prompt_number": 72
    },
    {
     "cell_type": "code",
     "collapsed": false,
     "input": [
      "viz.format.quantiles(coef, qs=[50, 75, 90, 95, 98, 99], width=100)\n",
      "_ = plt.hist(np.abs(coef), bins=50, range=(0, 2))"
     ],
     "language": "python",
     "metadata": {},
     "outputs": [
      {
       "output_type": "stream",
       "stream": "stdout",
       "text": [
        "50% < -0.01195   75% < 0.002635   90% < 0.126295   95% < 0.212882   98% < 0.339948   99% < 0.434979\n"
       ]
      },
      {
       "metadata": {},
       "output_type": "display_data",
       "png": "[encoded data removed]",
       "text": [
        "<matplotlib.figure.Figure at 0x10f3c8490>"
       ]
      }
     ],
     "prompt_number": 74
    },
    {
     "cell_type": "code",
     "collapsed": false,
     "input": [
      "def corpus_features_subset(corpus, features):\n",
      "    subcorpus = corpus.subset(npx.indices(polar_corpus.y))\n",
      "    subcorpus.X = subcorpus.X[:, features]\n",
      "    subcorpus.feature_names = subcorpus.feature_names[features]\n",
      "    return subcorpus\n",
      "\n",
      "def corpus_top_k_features_subset(corpus, model, k):\n",
      "    coef_abs_ordering = np.argsort(np.abs(model.coef_.ravel()))\n",
      "    features = coef_abs_ordering[-k:]\n",
      "    # top_k_df = pd.DataFrame.from_dict(dict(values=coef[top_k_features], names=polar_corpus.feature_names[top_k_features]))\n",
      "    return corpus_features_subset(polar_corpus, features)"
     ],
     "language": "python",
     "metadata": {},
     "outputs": [],
     "prompt_number": 76
    },
    {
     "cell_type": "code",
     "collapsed": false,
     "input": [
      "def corpus_mean_accuracy(corpus, penalty='l2', n_iter=10):\n",
      "    folds = cross_validation.StratifiedShuffleSplit(corpus.y, test_size=0.1, n_iter=10)\n",
      "    accuracies = []\n",
      "    for fold_index, (train_indices, test_indices) in enumerate(folds):\n",
      "        train_corpus = corpus.subset(train_indices)\n",
      "        test_corpus = corpus.subset(test_indices)\n",
      "    \n",
      "        model = linear_model.LogisticRegression(fit_intercept=False, penalty=penalty)\n",
      "        model.fit(train_corpus.X, train_corpus.y)\n",
      "        pred_y = model.predict(test_corpus.X)\n",
      "        # pred_proba = model.predict_proba(test_corpus.X)\n",
      "        accuracy = metrics.accuracy_score(test_corpus.y, pred_y)\n",
      "        accuracies += [accuracy]\n",
      "    return np.mean(accuracies)"
     ],
     "language": "python",
     "metadata": {},
     "outputs": [],
     "prompt_number": 84
    },
    {
     "cell_type": "code",
     "collapsed": false,
     "input": [
      "print 'regularization:', regularization\n",
      "for k in [10, 20, 30, 40, 50, 100, 200, 250, 500, 750, 1000, 5000, 10000]:\n",
      "    subvocab_corpus = corpus_top_k_features_subset(polar_corpus, polar_model, k)\n",
      "    accuracy = corpus_mean_accuracy(subvocab_corpus, penalty=regularization, n_iter=10)\n",
      "#     print 'X ~ {:s}; features: {:s}'.format(subvocab_corpus.X.shape, subvocab_corpus.feature_names)\n",
      "    print 'K = {:d}; accuracy = {:.2%}'.format(k, accuracy)"
     ],
     "language": "python",
     "metadata": {},
     "outputs": [
      {
       "output_type": "stream",
       "stream": "stdout",
       "text": [
        "regularization: l2\n",
        "K = 10; accuracy = 90.70%"
       ]
      },
      {
       "output_type": "stream",
       "stream": "stdout",
       "text": [
        "\n",
        "K = 20; accuracy = 90.67%"
       ]
      },
      {
       "output_type": "stream",
       "stream": "stdout",
       "text": [
        "\n",
        "K = 30; accuracy = 91.58%"
       ]
      },
      {
       "output_type": "stream",
       "stream": "stdout",
       "text": [
        "\n",
        "K = 40; accuracy = 91.82%"
       ]
      },
      {
       "output_type": "stream",
       "stream": "stdout",
       "text": [
        "\n",
        "K = 50; accuracy = 92.00%"
       ]
      },
      {
       "output_type": "stream",
       "stream": "stdout",
       "text": [
        "\n",
        "K = 100; accuracy = 94.13%"
       ]
      },
      {
       "output_type": "stream",
       "stream": "stdout",
       "text": [
        "\n",
        "K = 200; accuracy = 94.59%"
       ]
      },
      {
       "output_type": "stream",
       "stream": "stdout",
       "text": [
        "\n",
        "K = 250; accuracy = 94.67%"
       ]
      },
      {
       "output_type": "stream",
       "stream": "stdout",
       "text": [
        "\n",
        "K = 500; accuracy = 95.63%"
       ]
      },
      {
       "output_type": "stream",
       "stream": "stdout",
       "text": [
        "\n",
        "K = 750; accuracy = 96.14%"
       ]
      },
      {
       "output_type": "stream",
       "stream": "stdout",
       "text": [
        "\n",
        "K = 1000; accuracy = 96.77%"
       ]
      },
      {
       "output_type": "stream",
       "stream": "stdout",
       "text": [
        "\n",
        "K = 5000; accuracy = 96.79%"
       ]
      },
      {
       "output_type": "stream",
       "stream": "stdout",
       "text": [
        "\n",
        "K = 10000; accuracy = 96.69%"
       ]
      },
      {
       "output_type": "stream",
       "stream": "stdout",
       "text": [
        "\n"
       ]
      }
     ],
     "prompt_number": 88
    },
    {
     "cell_type": "markdown",
     "metadata": {},
     "source": [
      "### Doing things right. Sort of. Better.\n",
      "\n",
      "Working with sklearn's feature_selection module.\n",
      "\n",
      "These objects take as input a scoring function that returns univariate p-values:\n",
      "\n",
      "        For regression: f_regression\n",
      "        For classification: chi2 or f_classif"
     ]
    },
    {
     "cell_type": "code",
     "collapsed": false,
     "input": [
      "k_best_model = feature_selection.SelectKBest(score_func=feature_selection.f_classif, k=10)\n",
      "k_best_model.fit(polar_corpus.X, polar_corpus.y)"
     ],
     "language": "python",
     "metadata": {},
     "outputs": [
      {
       "metadata": {},
       "output_type": "pyout",
       "prompt_number": 116,
       "text": [
        "SelectKBest(k=10, score_func=<function f_classif at 0x10b444d70>)"
       ]
      }
     ],
     "prompt_number": 116
    },
    {
     "cell_type": "code",
     "collapsed": false,
     "input": [
      "features = k_best_model.get_support(indices=True)\n",
      "print 'support', features, polar_corpus.feature_names[features]\n",
      "print 'scores_', k_best_model.scores_.shape, k_best_model.scores_\n",
      "print 'pvalues_', k_best_model.pvalues_.shape, k_best_model.pvalues_"
     ],
     "language": "python",
     "metadata": {},
     "outputs": [
      {
       "output_type": "stream",
       "stream": "stdout",
       "text": [
        "support [ 1920 31726 32439 35833 40023 40365 42881 42901 42919 42945] [u'addthis' u'rt gohpblog' u'sb5' u'tcot' u'via addthis' u'vote yes' u'yes'\n",
        " u'yes on' u'yeson2' u'yeson2 issue2']\n",
        "scores_ (43385,) [        nan  2.31342392  0.51376222 ...,  0.51376222  0.77071443\n",
        "  0.77071443]\n",
        "pvalues_ (43385,) [        nan  0.12828445  0.47352702 ...,  0.47352702  0.38001161\n",
        "  0.38001161]\n"
       ]
      }
     ],
     "prompt_number": 117
    },
    {
     "cell_type": "code",
     "collapsed": false,
     "input": [
      "scores = k_best_model.scores_\n",
      "_ = plt.hist(scores[~np.isnan(scores)], bins=50, log=True)"
     ],
     "language": "python",
     "metadata": {},
     "outputs": [
      {
       "metadata": {},
       "output_type": "display_data",
       "png": "[encoded data removed]",
       "text": [
        "<matplotlib.figure.Figure at 0x10f962d50>"
       ]
      }
     ],
     "prompt_number": 118
    },
    {
     "cell_type": "code",
     "collapsed": false,
     "input": [
      "pvalues = k_best_model.pvalues_\n",
      "_ = plt.hist(pvalues[~np.isnan(pvalues)], bins=50)"
     ],
     "language": "python",
     "metadata": {},
     "outputs": [
      {
       "metadata": {},
       "output_type": "display_data",
       "png": "[encoded data removed]",
       "text": [
        "<matplotlib.figure.Figure at 0x10e33fc90>"
       ]
      }
     ],
     "prompt_number": 119
    },
    {
     "cell_type": "code",
     "collapsed": false,
     "input": [
      "k_best_model.transform(polar_corpus.X)"
     ],
     "language": "python",
     "metadata": {},
     "outputs": [
      {
       "metadata": {},
       "output_type": "pyout",
       "prompt_number": 120,
       "text": [
        "<13627x10 sparse matrix of type '<type 'numpy.float64'>'\n",
        "\twith 13535 stored elements in Compressed Sparse Row format>"
       ]
      }
     ],
     "prompt_number": 120
    },
    {
     "cell_type": "code",
     "collapsed": false,
     "input": [
      "print 'regularization:', regularization\n",
      "# score_func = feature_selection.f_classif\n",
      "# score_func = feature_selectionchi2\n",
      "score_func = feature_selection.f_regression\n",
      "#polar_corpus.X = polar_corpus.X.toarray()  # required for f_regression\n",
      "for k in [10, 20, 30, 40, 50, 100, 200, 250, 500, 750, 1000, 5000, 10000]:\n",
      "    # maybe SelectFdr to tune Precision/Recall ?\n",
      "    k_best_model = feature_selection.SelectKBest(score_func=score_func, k=k)\n",
      "    k_best_model.fit(polar_corpus.X, polar_corpus.y)\n",
      "    features = k_best_model.get_support(indices=True)\n",
      "    k_best_corpus = corpus_features_subset(polar_corpus, features)\n",
      "\n",
      "    accuracy = corpus_mean_accuracy(k_best_corpus, penalty=regularization, n_iter=10)\n",
      "    # print 'X ~ {:s}; features: {:s}'.format(subvocab_corpus.X.shape, subvocab_corpus.feature_names)\n",
      "    print 'K = {:d}; accuracy = {:.2%}'.format(k, accuracy)"
     ],
     "language": "python",
     "metadata": {},
     "outputs": [
      {
       "output_type": "stream",
       "stream": "stdout",
       "text": [
        "regularization: l2\n",
        "K = 10; accuracy = 90.74%"
       ]
      },
      {
       "output_type": "stream",
       "stream": "stdout",
       "text": [
        "\n",
        "K = 20; accuracy = 91.83%"
       ]
      },
      {
       "output_type": "stream",
       "stream": "stdout",
       "text": [
        "\n",
        "K = 30; accuracy = 92.23%"
       ]
      },
      {
       "output_type": "stream",
       "stream": "stdout",
       "text": [
        "\n",
        "K = 40; accuracy = 93.02%"
       ]
      },
      {
       "output_type": "stream",
       "stream": "stdout",
       "text": [
        "\n",
        "K = 50; accuracy = 93.53%"
       ]
      },
      {
       "output_type": "stream",
       "stream": "stdout",
       "text": [
        "\n",
        "K = 100; accuracy = 93.24%"
       ]
      },
      {
       "output_type": "stream",
       "stream": "stdout",
       "text": [
        "\n",
        "K = 200; accuracy = 93.87%"
       ]
      },
      {
       "output_type": "stream",
       "stream": "stdout",
       "text": [
        "\n",
        "K = 250; accuracy = 93.82%"
       ]
      },
      {
       "output_type": "stream",
       "stream": "stdout",
       "text": [
        "\n",
        "K = 500; accuracy = 94.64%"
       ]
      },
      {
       "ename": "KeyboardInterrupt",
       "evalue": "",
       "output_type": "pyerr",
       "traceback": [
        "\u001b[0;31m---------------------------------------------------------------------------\u001b[0m\n\u001b[0;31mKeyboardInterrupt\u001b[0m                         Traceback (most recent call last)",
        "\u001b[0;32m<ipython-input-127-f9bec6ff79db>\u001b[0m in \u001b[0;36m<module>\u001b[0;34m()\u001b[0m\n\u001b[1;32m      6\u001b[0m \u001b[0;32mfor\u001b[0m \u001b[0mk\u001b[0m \u001b[0;32min\u001b[0m \u001b[0;34m[\u001b[0m\u001b[0;36m10\u001b[0m\u001b[0;34m,\u001b[0m \u001b[0;36m20\u001b[0m\u001b[0;34m,\u001b[0m \u001b[0;36m30\u001b[0m\u001b[0;34m,\u001b[0m \u001b[0;36m40\u001b[0m\u001b[0;34m,\u001b[0m \u001b[0;36m50\u001b[0m\u001b[0;34m,\u001b[0m \u001b[0;36m100\u001b[0m\u001b[0;34m,\u001b[0m \u001b[0;36m200\u001b[0m\u001b[0;34m,\u001b[0m \u001b[0;36m250\u001b[0m\u001b[0;34m,\u001b[0m \u001b[0;36m500\u001b[0m\u001b[0;34m,\u001b[0m \u001b[0;36m750\u001b[0m\u001b[0;34m,\u001b[0m \u001b[0;36m1000\u001b[0m\u001b[0;34m,\u001b[0m \u001b[0;36m5000\u001b[0m\u001b[0;34m,\u001b[0m \u001b[0;36m10000\u001b[0m\u001b[0;34m]\u001b[0m\u001b[0;34m:\u001b[0m\u001b[0;34m\u001b[0m\u001b[0m\n\u001b[1;32m      7\u001b[0m     \u001b[0mk_best_model\u001b[0m \u001b[0;34m=\u001b[0m \u001b[0mfeature_selection\u001b[0m\u001b[0;34m.\u001b[0m\u001b[0mSelectKBest\u001b[0m\u001b[0;34m(\u001b[0m\u001b[0mscore_func\u001b[0m\u001b[0;34m=\u001b[0m\u001b[0mscore_func\u001b[0m\u001b[0;34m,\u001b[0m \u001b[0mk\u001b[0m\u001b[0;34m=\u001b[0m\u001b[0mk\u001b[0m\u001b[0;34m)\u001b[0m\u001b[0;34m\u001b[0m\u001b[0m\n\u001b[0;32m----> 8\u001b[0;31m     \u001b[0mk_best_model\u001b[0m\u001b[0;34m.\u001b[0m\u001b[0mfit\u001b[0m\u001b[0;34m(\u001b[0m\u001b[0mpolar_corpus\u001b[0m\u001b[0;34m.\u001b[0m\u001b[0mX\u001b[0m\u001b[0;34m,\u001b[0m \u001b[0mpolar_corpus\u001b[0m\u001b[0;34m.\u001b[0m\u001b[0my\u001b[0m\u001b[0;34m)\u001b[0m\u001b[0;34m\u001b[0m\u001b[0m\n\u001b[0m\u001b[1;32m      9\u001b[0m     \u001b[0mfeatures\u001b[0m \u001b[0;34m=\u001b[0m \u001b[0mk_best_model\u001b[0m\u001b[0;34m.\u001b[0m\u001b[0mget_support\u001b[0m\u001b[0;34m(\u001b[0m\u001b[0mindices\u001b[0m\u001b[0;34m=\u001b[0m\u001b[0mTrue\u001b[0m\u001b[0;34m)\u001b[0m\u001b[0;34m\u001b[0m\u001b[0m\n\u001b[1;32m     10\u001b[0m     \u001b[0mk_best_corpus\u001b[0m \u001b[0;34m=\u001b[0m \u001b[0mcorpus_features_subset\u001b[0m\u001b[0;34m(\u001b[0m\u001b[0mpolar_corpus\u001b[0m\u001b[0;34m,\u001b[0m \u001b[0mfeatures\u001b[0m\u001b[0;34m)\u001b[0m\u001b[0;34m\u001b[0m\u001b[0m\n",
        "\u001b[0;32m/Library/Python/2.7/site-packages/scikit_learn-0.14.1-py2.7-macosx-10.9-intel.egg/sklearn/feature_selection/univariate_selection.pyc\u001b[0m in \u001b[0;36mfit\u001b[0;34m(self, X, y)\u001b[0m\n\u001b[1;32m    313\u001b[0m         \u001b[0mRecords\u001b[0m \u001b[0;32mand\u001b[0m \u001b[0mselects\u001b[0m \u001b[0mfeatures\u001b[0m \u001b[0maccording\u001b[0m \u001b[0mto\u001b[0m \u001b[0mtheir\u001b[0m \u001b[0mscores\u001b[0m\u001b[0;34m.\u001b[0m\u001b[0;34m\u001b[0m\u001b[0m\n\u001b[1;32m    314\u001b[0m         \"\"\"\n\u001b[0;32m--> 315\u001b[0;31m         \u001b[0mself\u001b[0m\u001b[0;34m.\u001b[0m\u001b[0mscores_\u001b[0m\u001b[0;34m,\u001b[0m \u001b[0mself\u001b[0m\u001b[0;34m.\u001b[0m\u001b[0mpvalues_\u001b[0m \u001b[0;34m=\u001b[0m \u001b[0mself\u001b[0m\u001b[0;34m.\u001b[0m\u001b[0mscore_func\u001b[0m\u001b[0;34m(\u001b[0m\u001b[0mX\u001b[0m\u001b[0;34m,\u001b[0m \u001b[0my\u001b[0m\u001b[0;34m)\u001b[0m\u001b[0;34m\u001b[0m\u001b[0m\n\u001b[0m\u001b[1;32m    316\u001b[0m         \u001b[0mself\u001b[0m\u001b[0;34m.\u001b[0m\u001b[0mscores_\u001b[0m \u001b[0;34m=\u001b[0m \u001b[0mnp\u001b[0m\u001b[0;34m.\u001b[0m\u001b[0masarray\u001b[0m\u001b[0;34m(\u001b[0m\u001b[0mself\u001b[0m\u001b[0;34m.\u001b[0m\u001b[0mscores_\u001b[0m\u001b[0;34m)\u001b[0m\u001b[0;34m\u001b[0m\u001b[0m\n\u001b[1;32m    317\u001b[0m         \u001b[0mself\u001b[0m\u001b[0;34m.\u001b[0m\u001b[0mpvalues_\u001b[0m \u001b[0;34m=\u001b[0m \u001b[0mnp\u001b[0m\u001b[0;34m.\u001b[0m\u001b[0masarray\u001b[0m\u001b[0;34m(\u001b[0m\u001b[0mself\u001b[0m\u001b[0;34m.\u001b[0m\u001b[0mpvalues_\u001b[0m\u001b[0;34m)\u001b[0m\u001b[0;34m\u001b[0m\u001b[0m\n",
        "\u001b[0;32m/Library/Python/2.7/site-packages/scikit_learn-0.14.1-py2.7-macosx-10.9-intel.egg/sklearn/feature_selection/univariate_selection.pyc\u001b[0m in \u001b[0;36mf_regression\u001b[0;34m(X, y, center)\u001b[0m\n\u001b[1;32m    249\u001b[0m     \u001b[0;32mif\u001b[0m \u001b[0mcenter\u001b[0m\u001b[0;34m:\u001b[0m\u001b[0;34m\u001b[0m\u001b[0m\n\u001b[1;32m    250\u001b[0m         \u001b[0my\u001b[0m \u001b[0;34m=\u001b[0m \u001b[0my\u001b[0m \u001b[0;34m-\u001b[0m \u001b[0mnp\u001b[0m\u001b[0;34m.\u001b[0m\u001b[0mmean\u001b[0m\u001b[0;34m(\u001b[0m\u001b[0my\u001b[0m\u001b[0;34m)\u001b[0m\u001b[0;34m\u001b[0m\u001b[0m\n\u001b[0;32m--> 251\u001b[0;31m         \u001b[0mX\u001b[0m \u001b[0;34m=\u001b[0m \u001b[0mX\u001b[0m\u001b[0;34m.\u001b[0m\u001b[0mcopy\u001b[0m\u001b[0;34m(\u001b[0m\u001b[0;34m'F'\u001b[0m\u001b[0;34m)\u001b[0m  \u001b[0;31m# faster in fortran\u001b[0m\u001b[0;34m\u001b[0m\u001b[0m\n\u001b[0m\u001b[1;32m    252\u001b[0m         \u001b[0mX\u001b[0m \u001b[0;34m-=\u001b[0m \u001b[0mX\u001b[0m\u001b[0;34m.\u001b[0m\u001b[0mmean\u001b[0m\u001b[0;34m(\u001b[0m\u001b[0maxis\u001b[0m\u001b[0;34m=\u001b[0m\u001b[0;36m0\u001b[0m\u001b[0;34m)\u001b[0m\u001b[0;34m\u001b[0m\u001b[0m\n\u001b[1;32m    253\u001b[0m \u001b[0;34m\u001b[0m\u001b[0m\n",
        "\u001b[0;31mKeyboardInterrupt\u001b[0m: "
       ]
      },
      {
       "output_type": "stream",
       "stream": "stdout",
       "text": [
        "\n"
       ]
      }
     ]
    },
    {
     "cell_type": "code",
     "collapsed": false,
     "input": [
      "# Recursive feature elimination\n",
      "#   http://scikit-learn.org/stable/modules/generated/sklearn.feature_selection.RFE.html\n",
      "print 'Using regularization:', regularization\n",
      "rfe_estimator = linear_model.LogisticRegression(fit_intercept=False, penalty=regularization)\n",
      "rfe_model = feature_selection.RFE(rfe_estimator, n_features_to_select=1000, step=0.25)\n",
      "rfe_model.fit(polar_corpus.X, polar_corpus.y)"
     ],
     "language": "python",
     "metadata": {},
     "outputs": [
      {
       "output_type": "stream",
       "stream": "stdout",
       "text": [
        "Using regularization: l2\n"
       ]
      },
      {
       "metadata": {},
       "output_type": "pyout",
       "prompt_number": 134,
       "text": [
        "RFE(estimator=LogisticRegression(C=1.0, class_weight=None, dual=False, fit_intercept=False,\n",
        "          intercept_scaling=1, penalty='l2', random_state=None, tol=0.0001),\n",
        "  estimator_params={}, n_features_to_select=1000, step=0.25, verbose=0)"
       ]
      }
     ],
     "prompt_number": 134
    },
    {
     "cell_type": "code",
     "collapsed": false,
     "input": [
      "print rfe_model.get_support(indices=True)[:10], '...'"
     ],
     "language": "python",
     "metadata": {},
     "outputs": [
      {
       "output_type": "stream",
       "stream": "stdout",
       "text": [
        "[  0   1   6  21  40  41 171 214 233 240] ...\n"
       ]
      }
     ],
     "prompt_number": 142
    },
    {
     "cell_type": "code",
     "collapsed": false,
     "input": [
      "features = rfe_model.get_support()\n",
      "rfe_corpus = corpus_features_subset(polar_corpus, features)\n",
      "print rfe_corpus.feature_names[:20], '...'\n",
      "accuracy = corpus_mean_accuracy(rfe_corpus, penalty=regularization, n_iter=10)\n",
      "print 'K = {:d}; accuracy = {:.2%}'.format(len(features), accuracy)"
     ],
     "language": "python",
     "metadata": {},
     "outputs": [
      {
       "output_type": "stream",
       "stream": "stdout",
       "text": [
        "[u'#intercept#' u'0' u'1' u'1 http://t.co/gjmslohe' u'1,000,000'\n",
        " u'1,000,000 for' u'15' u'1983 law' u'1u' u'1u p2' u'2 does' u'2 early'\n",
        " u'2 sb5' u'2 vote' u'25' u'3' u'3 in' u'4' u'5 will' u'54'] ...\n",
        "K = 43385; accuracy = 96.35%"
       ]
      },
      {
       "output_type": "stream",
       "stream": "stdout",
       "text": [
        "\n"
       ]
      }
     ],
     "prompt_number": 138
    },
    {
     "cell_type": "code",
     "collapsed": false,
     "input": [
      "#polar_corpus.X = polar_corpus.X.toarray()\n",
      "for k in [10, 20, 30, 40, 50, 100, 200, 250, 500, 750, 1000, 5000, 10000]:\n",
      "    rfe_model = feature_selection.RFE(rfe_estimator, n_features_to_select=k)\n",
      "    features = rfe_model.get_support()\n",
      "    rfe_corpus = corpus_features_subset(polar_corpus, features)\n",
      "    print rfe_corpus.feature_names\n",
      "    accuracy = corpus_mean_accuracy(rfe_corpus, penalty=regularization, n_iter=10)\n",
      "    # print 'X ~ {:s}; features: {:s}'.format(subvocab_corpus.X.shape, subvocab_corpus.feature_names)\n",
      "    print 'K = {:d}; accuracy = {:.2%}'.format(k, accuracy)"
     ],
     "language": "python",
     "metadata": {},
     "outputs": []
    }
   ],
   "metadata": {}
  }
 ]
}