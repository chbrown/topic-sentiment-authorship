{
 "metadata": {
  "name": ""
 },
 "nbformat": 3,
 "nbformat_minor": 0,
 "worksheets": [
  {
   "cells": [
    {
     "cell_type": "code",
     "collapsed": false,
     "input": [
      "import IPython\n",
      "import numpy as np\n",
      "import pandas as pd\n",
      "from tsa.science import numpy_ext as npx\n",
      "\n",
      "import viz\n",
      "import viz.stats\n",
      "import viz.format\n",
      "\n",
      "from sklearn import metrics, cross_validation\n",
      "from sklearn import linear_model\n",
      "from sklearn import naive_bayes\n",
      "from sklearn import svm\n",
      "from sklearn import feature_selection\n",
      "\n",
      "from tsa import stdout, stderr\n",
      "from tsa.lib import tabular, datetime_extra\n",
      "from tsa.lib.timer import Timer\n",
      "from tsa.models import Source, Document, create_session\n",
      "from tsa.science import features, models, timeseries\n",
      "from tsa.science.corpora import MulticlassCorpus\n",
      "from tsa.science.plot import plt, figure_path, distinct_styles, ticker\n",
      "from tsa.science.summarization import metrics_dict, metrics_summary, average_accuracy"
     ],
     "language": "python",
     "metadata": {},
     "outputs": [],
     "prompt_number": 6
    },
    {
     "cell_type": "code",
     "collapsed": false,
     "input": [
      "documents = Source.from_name('sb5b')\n",
      "full_corpus = MulticlassCorpus(documents)\n",
      "full_corpus.apply_labelfunc(lambda doc: doc.label)"
     ],
     "language": "python",
     "metadata": {},
     "outputs": [],
     "prompt_number": 2
    },
    {
     "cell_type": "code",
     "collapsed": false,
     "input": [
      "full_corpus.labels"
     ],
     "language": "python",
     "metadata": {},
     "outputs": [
      {
       "metadata": {},
       "output_type": "pyout",
       "prompt_number": 4,
       "text": [
        "array([u'For', u'Broken Link', u'Against', u'Neutral', None,\n",
        "       u'Not Applicable'], dtype=object)"
       ]
      }
     ],
     "prompt_number": 4
    },
    {
     "cell_type": "code",
     "collapsed": false,
     "input": [
      "tri_classes = [full_corpus.class_lookup[label] for label in ['For', 'Against', 'Neutral']]\n",
      "tri_indices = np.in1d(full_corpus.y, tri_classes)\n",
      "tri_corpus = full_corpus.subset(tri_indices)\n",
      "tri_corpus.extract_features(lambda doc: 1, features.intercept)\n",
      "tri_corpus.extract_features(lambda doc: doc.document, features.ngrams,\n",
      "    ngram_max=2, min_df=2, max_df=1.0)"
     ],
     "language": "python",
     "metadata": {},
     "outputs": [
      {
       "metadata": {},
       "output_type": "pyout",
       "prompt_number": 15,
       "text": [
        "array([    1,     2,     3, ..., 43694, 43695, 43696])"
       ]
      }
     ],
     "prompt_number": 15
    },
    {
     "cell_type": "code",
     "collapsed": false,
     "input": [
      "npx.table(tri_corpus.y)"
     ],
     "language": "python",
     "metadata": {},
     "outputs": [
      {
       "metadata": {},
       "output_type": "pyout",
       "prompt_number": 16,
       "text": [
        "[(0, 2785), (1, 0), (2, 10842), (3, 149)]"
       ]
      }
     ],
     "prompt_number": 16
    },
    {
     "cell_type": "code",
     "collapsed": false,
     "input": [
      "average_accuracy(tri_corpus, linear_model.LogisticRegression(fit_intercept=False, penalty='l2')) "
     ],
     "language": "python",
     "metadata": {},
     "outputs": [
      {
       "metadata": {},
       "output_type": "pyout",
       "prompt_number": 7,
       "text": [
        "0.9496736765772299"
       ]
      }
     ],
     "prompt_number": 7
    },
    {
     "cell_type": "code",
     "collapsed": false,
     "input": [
      "folds = list(cross_validation.StratifiedShuffleSplit(tri_corpus.y, test_size=0.75, n_iter=10))\n",
      "\n",
      "corpus = tri_corpus\n",
      "train_indices, test_indices = folds[0]\n",
      "train_corpus = corpus.subset(train_indices)\n",
      "test_corpus = corpus.subset(test_indices)\n",
      "        \n",
      "model = linear_model.LogisticRegression(fit_intercept=False, penalty='l1')\n",
      "model.fit(train_corpus.X, train_corpus.y)\n",
      "pred_y = model.predict(test_corpus.X)\n",
      "\n",
      "confusion_counts = metrics.confusion_matrix(test_corpus.y, pred_y)\n",
      "print 'overall accuracy', metrics.accuracy_score(test_corpus.y, pred_y)\n",
      "print 'true labels on the rows, predicted labels in the columns'\n",
      "pd.DataFrame(confusion_counts, index=corpus.labels[tri_classes], columns=corpus.labels[tri_classes])"
     ],
     "language": "python",
     "metadata": {},
     "outputs": [
      {
       "output_type": "stream",
       "stream": "stdout",
       "text": [
        "overall accuracy 0.92809445466\n"
       ]
      },
      {
       "html": [
        "<div style=\"max-height:1000px;max-width:1500px;overflow:auto;\">\n",
        "<table border=\"1\" class=\"dataframe\">\n",
        "  <thead>\n",
        "    <tr style=\"text-align: right;\">\n",
        "      <th></th>\n",
        "      <th>For</th>\n",
        "      <th>Against</th>\n",
        "      <th>Neutral</th>\n",
        "    </tr>\n",
        "  </thead>\n",
        "  <tbody>\n",
        "    <tr>\n",
        "      <th>For</th>\n",
        "      <td> 1604</td>\n",
        "      <td>  485</td>\n",
        "      <td> 0</td>\n",
        "    </tr>\n",
        "    <tr>\n",
        "      <th>Against</th>\n",
        "      <td>  148</td>\n",
        "      <td> 7984</td>\n",
        "      <td> 0</td>\n",
        "    </tr>\n",
        "    <tr>\n",
        "      <th>Neutral</th>\n",
        "      <td>   14</td>\n",
        "      <td>   96</td>\n",
        "      <td> 2</td>\n",
        "    </tr>\n",
        "  </tbody>\n",
        "</table>\n",
        "<p>3 rows \u00d7 3 columns</p>\n",
        "</div>"
       ],
       "metadata": {},
       "output_type": "pyout",
       "prompt_number": 27,
       "text": [
        "          For  Against  Neutral\n",
        "For      1604      485        0\n",
        "Against   148     7984        0\n",
        "Neutral    14       96        2\n",
        "\n",
        "[3 rows x 3 columns]"
       ]
      }
     ],
     "prompt_number": 27
    },
    {
     "cell_type": "code",
     "collapsed": false,
     "input": [],
     "language": "python",
     "metadata": {},
     "outputs": [
      {
       "metadata": {},
       "output_type": "pyout",
       "prompt_number": 23,
       "text": [
        "array([u'For', u'Against', u'Neutral'], dtype=object)"
       ]
      }
     ],
     "prompt_number": 23
    },
    {
     "cell_type": "code",
     "collapsed": false,
     "input": [
      "tri_classes"
     ],
     "language": "python",
     "metadata": {},
     "outputs": [
      {
       "metadata": {},
       "output_type": "pyout",
       "prompt_number": 22,
       "text": [
        "[0, 2, 3]"
       ]
      }
     ],
     "prompt_number": 22
    },
    {
     "cell_type": "code",
     "collapsed": false,
     "input": [],
     "language": "python",
     "metadata": {},
     "outputs": []
    }
   ],
   "metadata": {}
  }
 ]
}