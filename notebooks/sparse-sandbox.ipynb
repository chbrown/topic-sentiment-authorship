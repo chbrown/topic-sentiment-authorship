{
 "metadata": {
  "name": ""
 },
 "nbformat": 3,
 "nbformat_minor": 0,
 "worksheets": [
  {
   "cells": [
    {
     "cell_type": "markdown",
     "metadata": {},
     "source": [
      "What's the best way to count non-zero elements in a sparse array?\n",
      "\n",
      "See: http://stackoverflow.com/q/3797158"
     ]
    },
    {
     "cell_type": "code",
     "collapsed": false,
     "input": [
      "# joeln: \n",
      "freq_joeln = np.diff(array.tocsc().indptr)\n",
      "freq_joeln"
     ],
     "language": "python",
     "metadata": {},
     "outputs": []
    },
    {
     "cell_type": "code",
     "collapsed": false,
     "input": [
      "# eumiro\n",
      "freq_eumiro_matrix = (array != 0).sum(axis=0)\n",
      "freq_eumiro = np.array(freq_eumiro_matrix).ravel()\n",
      "freq_eumiro"
     ],
     "language": "python",
     "metadata": {},
     "outputs": []
    },
    {
     "cell_type": "code",
     "collapsed": false,
     "input": [
      "# eumiro, but by row: \n",
      "row_count_matrix = (array != 0).sum(1)\n",
      "row_count = np.array(row_count).ravel()"
     ],
     "language": "python",
     "metadata": {},
     "outputs": []
    },
    {
     "cell_type": "code",
     "collapsed": false,
     "input": [
      "# comprehension (so slow!)\n",
      "nrows, ncols = array.shape\n",
      "df = np.array([array[:, col].nnz for col in xrange(ncols)])"
     ],
     "language": "python",
     "metadata": {},
     "outputs": []
    },
    {
     "cell_type": "code",
     "collapsed": false,
     "input": [
      "# nz = np.nonzero(array)"
     ],
     "language": "python",
     "metadata": {},
     "outputs": [],
     "prompt_number": 1
    },
    {
     "cell_type": "code",
     "collapsed": false,
     "input": [],
     "language": "python",
     "metadata": {},
     "outputs": []
    },
    {
     "cell_type": "markdown",
     "metadata": {},
     "source": [
      "## Sparse covariance"
     ]
    },
    {
     "cell_type": "code",
     "collapsed": false,
     "input": [
      "def sparse_corrcoef(A, B=None):\n",
      "    '''\n",
      "    From http://stackoverflow.com/q/19231268/424651\n",
      "    '''\n",
      "    if B is not None:\n",
      "        A = sparse.vstack((A, B), format='csr')\n",
      "\n",
      "    A = A.astype(np.float64)\n",
      "\n",
      "    # compute the covariance matrix\n",
      "    # (see http://stackoverflow.com/questions/16062804/)\n",
      "    A = A - A.mean(1)\n",
      "    norm = A.shape[1] - 1.\n",
      "    C = np.dot(A, A.T.conjugate()) / norm\n",
      "\n",
      "    # the correlation coefficients are given by\n",
      "    # C_{i,j} / sqrt(C_{ii} * C_{jj})\n",
      "    d = np.diag(C)\n",
      "    coeffs = C / np.sqrt(np.outer(d, d))\n",
      "\n",
      "    return coeffs"
     ],
     "language": "python",
     "metadata": {},
     "outputs": [],
     "prompt_number": 4
    },
    {
     "cell_type": "code",
     "collapsed": false,
     "input": [
      "# test sparse_corrcoef against np.corrcoef\n",
      "a = sparse.rand(100, 100000, density=0.1, format='csr')\n",
      "b = sparse.rand(100, 100000, density=0.1, format='csr')\n",
      "\n",
      "coeffs1 = np.sparse_corrcoef(a, b)\n",
      "coeffs2 = np.corrcoef(a.todense(), b.todense())\n",
      "\n",
      "print np.allclose(coeffs1, coeffs2)"
     ],
     "language": "python",
     "metadata": {},
     "outputs": []
    },
    {
     "cell_type": "code",
     "collapsed": false,
     "input": [
      "# covariance\n",
      "array_corrcoefs = sparse_corrcoef(array)\n",
      "array_corrcoefs.shape"
     ],
     "language": "python",
     "metadata": {},
     "outputs": [
      {
       "ename": "NameError",
       "evalue": "name 'sparse_corrcoef' is not defined",
       "output_type": "pyerr",
       "traceback": [
        "\u001b[0;31m---------------------------------------------------------------------------\u001b[0m\n\u001b[0;31mNameError\u001b[0m                                 Traceback (most recent call last)",
        "\u001b[0;32m<ipython-input-2-63b4c253d973>\u001b[0m in \u001b[0;36m<module>\u001b[0;34m()\u001b[0m\n\u001b[1;32m      1\u001b[0m \u001b[0;31m# covariance\u001b[0m\u001b[0;34m\u001b[0m\u001b[0;34m\u001b[0m\u001b[0m\n\u001b[0;32m----> 2\u001b[0;31m \u001b[0marray_corrcoefs\u001b[0m \u001b[0;34m=\u001b[0m \u001b[0msparse_corrcoef\u001b[0m\u001b[0;34m(\u001b[0m\u001b[0marray\u001b[0m\u001b[0;34m)\u001b[0m\u001b[0;34m\u001b[0m\u001b[0m\n\u001b[0m\u001b[1;32m      3\u001b[0m \u001b[0marray_corrcoefs\u001b[0m\u001b[0;34m.\u001b[0m\u001b[0mshape\u001b[0m\u001b[0;34m\u001b[0m\u001b[0m\n",
        "\u001b[0;31mNameError\u001b[0m: name 'sparse_corrcoef' is not defined"
       ]
      }
     ],
     "prompt_number": 2
    },
    {
     "cell_type": "code",
     "collapsed": false,
     "input": [
      "coeffs3 = sparse_corrcoef(a)\n",
      "plt.imshow(coeffs3)"
     ],
     "language": "python",
     "metadata": {},
     "outputs": []
    }
   ],
   "metadata": {}
  }
 ]
}