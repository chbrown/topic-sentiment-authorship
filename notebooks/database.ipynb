{
 "metadata": {
  "name": ""
 },
 "nbformat": 3,
 "nbformat_minor": 0,
 "worksheets": [
  {
   "cells": [
    {
     "cell_type": "code",
     "collapsed": false,
     "input": [
      "import IPython\n",
      "import numpy as np\n",
      "import pandas as pd\n",
      "from tsa.science import numpy_ext as npx\n",
      "# from itertools import groupby\n",
      "from sqlalchemy import func\n",
      "\n",
      "from tsa.lib import datetime_extra\n",
      "from tsa.science.plot import plt, figure_path, distinct_styles, ticker\n",
      "from tsa.science import features, models, timeseries\n",
      "from tsa.science.corpora import MulticlassCorpus\n",
      "from tsa.models import Source, Document, create_session"
     ],
     "language": "python",
     "metadata": {},
     "outputs": [],
     "prompt_number": 1
    },
    {
     "cell_type": "code",
     "collapsed": false,
     "input": [
      "DBSession = create_session()\n",
      "def source_documents(source_name):\n",
      "    return DBSession.query(Document).\\\n",
      "        join(Source, Source.id == Document.source_id).\\\n",
      "        filter(Source.name == source_name).all()"
     ],
     "language": "python",
     "metadata": {},
     "outputs": [],
     "prompt_number": 2
    },
    {
     "cell_type": "code",
     "collapsed": false,
     "input": [
      "# print out database overview \n",
      "for source in DBSession.query(Source):\n",
      "    labels = DBSession.query(Document.label, func.count(Document.label)).\\\n",
      "        filter(Document.source == source).\\\n",
      "        group_by(Document.label).all()\n",
      "    df = pd.DataFrame.from_records(labels, index=['label'], columns=['label', 'count'])\n",
      "    total = DBSession.query(Document).filter(Document.source == source).count()\n",
      "    print 'source.name = {:s}, N = {:d}'.format(source.name, total)\n",
      "    IPython.display.display(df)"
     ],
     "language": "python",
     "metadata": {},
     "outputs": [
      {
       "output_type": "stream",
       "stream": "stdout",
       "text": [
        "source.name = sb5b, N = 106702\n"
       ]
      },
      {
       "html": [
        "<div style=\"max-height:1000px;max-width:1500px;overflow:auto;\">\n",
        "<table border=\"1\" class=\"dataframe\">\n",
        "  <thead>\n",
        "    <tr style=\"text-align: right;\">\n",
        "      <th></th>\n",
        "      <th>count</th>\n",
        "    </tr>\n",
        "    <tr>\n",
        "      <th>label</th>\n",
        "      <th></th>\n",
        "    </tr>\n",
        "  </thead>\n",
        "  <tbody>\n",
        "    <tr>\n",
        "      <th>NaN</th>\n",
        "      <td>     0</td>\n",
        "    </tr>\n",
        "    <tr>\n",
        "      <th>Not Applicable</th>\n",
        "      <td>   571</td>\n",
        "    </tr>\n",
        "    <tr>\n",
        "      <th>For</th>\n",
        "      <td>  2785</td>\n",
        "    </tr>\n",
        "    <tr>\n",
        "      <th>Broken Link</th>\n",
        "      <td>    36</td>\n",
        "    </tr>\n",
        "    <tr>\n",
        "      <th>Against</th>\n",
        "      <td> 10842</td>\n",
        "    </tr>\n",
        "    <tr>\n",
        "      <th>Neutral</th>\n",
        "      <td>   149</td>\n",
        "    </tr>\n",
        "  </tbody>\n",
        "</table>\n",
        "<p>6 rows \u00d7 1 columns</p>\n",
        "</div>"
       ],
       "metadata": {},
       "output_type": "display_data",
       "text": [
        "                count\n",
        "label                \n",
        "NaN                 0\n",
        "Not Applicable    571\n",
        "For              2785\n",
        "Broken Link        36\n",
        "Against         10842\n",
        "Neutral           149\n",
        "\n",
        "[6 rows x 1 columns]"
       ]
      },
      {
       "output_type": "stream",
       "stream": "stdout",
       "text": [
        "source.name = rt-polarity, N = 10662\n"
       ]
      },
      {
       "html": [
        "<div style=\"max-height:1000px;max-width:1500px;overflow:auto;\">\n",
        "<table border=\"1\" class=\"dataframe\">\n",
        "  <thead>\n",
        "    <tr style=\"text-align: right;\">\n",
        "      <th></th>\n",
        "      <th>count</th>\n",
        "    </tr>\n",
        "    <tr>\n",
        "      <th>label</th>\n",
        "      <th></th>\n",
        "    </tr>\n",
        "  </thead>\n",
        "  <tbody>\n",
        "    <tr>\n",
        "      <th>neg</th>\n",
        "      <td> 5331</td>\n",
        "    </tr>\n",
        "    <tr>\n",
        "      <th>pos</th>\n",
        "      <td> 5331</td>\n",
        "    </tr>\n",
        "  </tbody>\n",
        "</table>\n",
        "<p>2 rows \u00d7 1 columns</p>\n",
        "</div>"
       ],
       "metadata": {},
       "output_type": "display_data",
       "text": [
        "       count\n",
        "label       \n",
        "neg     5331\n",
        "pos     5331\n",
        "\n",
        "[2 rows x 1 columns]"
       ]
      },
      {
       "output_type": "stream",
       "stream": "stdout",
       "text": [
        "source.name = convote, N = 8121\n"
       ]
      },
      {
       "html": [
        "<div style=\"max-height:1000px;max-width:1500px;overflow:auto;\">\n",
        "<table border=\"1\" class=\"dataframe\">\n",
        "  <thead>\n",
        "    <tr style=\"text-align: right;\">\n",
        "      <th></th>\n",
        "      <th>count</th>\n",
        "    </tr>\n",
        "    <tr>\n",
        "      <th>label</th>\n",
        "      <th></th>\n",
        "    </tr>\n",
        "  </thead>\n",
        "  <tbody>\n",
        "    <tr>\n",
        "      <th>Against</th>\n",
        "      <td> 3853</td>\n",
        "    </tr>\n",
        "    <tr>\n",
        "      <th>For</th>\n",
        "      <td> 4268</td>\n",
        "    </tr>\n",
        "  </tbody>\n",
        "</table>\n",
        "<p>2 rows \u00d7 1 columns</p>\n",
        "</div>"
       ],
       "metadata": {},
       "output_type": "display_data",
       "text": [
        "         count\n",
        "label         \n",
        "Against   3853\n",
        "For       4268\n",
        "\n",
        "[2 rows x 1 columns]"
       ]
      },
      {
       "output_type": "stream",
       "stream": "stdout",
       "text": [
        "source.name = stanford-politeness-wikipedia, N = 4353\n"
       ]
      },
      {
       "html": [
        "<div style=\"max-height:1000px;max-width:1500px;overflow:auto;\">\n",
        "<table border=\"1\" class=\"dataframe\">\n",
        "  <thead>\n",
        "    <tr style=\"text-align: right;\">\n",
        "      <th></th>\n",
        "      <th>count</th>\n",
        "    </tr>\n",
        "    <tr>\n",
        "      <th>label</th>\n",
        "      <th></th>\n",
        "    </tr>\n",
        "  </thead>\n",
        "  <tbody>\n",
        "    <tr>\n",
        "      <th>Impolite</th>\n",
        "      <td> 2062</td>\n",
        "    </tr>\n",
        "    <tr>\n",
        "      <th>Polite</th>\n",
        "      <td> 2291</td>\n",
        "    </tr>\n",
        "  </tbody>\n",
        "</table>\n",
        "<p>2 rows \u00d7 1 columns</p>\n",
        "</div>"
       ],
       "metadata": {},
       "output_type": "display_data",
       "text": [
        "          count\n",
        "label          \n",
        "Impolite   2062\n",
        "Polite     2291\n",
        "\n",
        "[2 rows x 1 columns]"
       ]
      },
      {
       "output_type": "stream",
       "stream": "stdout",
       "text": [
        "source.name = stanford-politeness-stackexchange, N = 6603\n"
       ]
      },
      {
       "html": [
        "<div style=\"max-height:1000px;max-width:1500px;overflow:auto;\">\n",
        "<table border=\"1\" class=\"dataframe\">\n",
        "  <thead>\n",
        "    <tr style=\"text-align: right;\">\n",
        "      <th></th>\n",
        "      <th>count</th>\n",
        "    </tr>\n",
        "    <tr>\n",
        "      <th>label</th>\n",
        "      <th></th>\n",
        "    </tr>\n",
        "  </thead>\n",
        "  <tbody>\n",
        "    <tr>\n",
        "      <th>Impolite</th>\n",
        "      <td> 2858</td>\n",
        "    </tr>\n",
        "    <tr>\n",
        "      <th>Polite</th>\n",
        "      <td> 3745</td>\n",
        "    </tr>\n",
        "  </tbody>\n",
        "</table>\n",
        "<p>2 rows \u00d7 1 columns</p>\n",
        "</div>"
       ],
       "metadata": {},
       "output_type": "display_data",
       "text": [
        "          count\n",
        "label          \n",
        "Impolite   2858\n",
        "Polite     3745\n",
        "\n",
        "[2 rows x 1 columns]"
       ]
      },
      {
       "output_type": "stream",
       "stream": "stdout",
       "text": [
        "source.name = twitter-sample, N = 128408\n"
       ]
      },
      {
       "html": [
        "<div style=\"max-height:1000px;max-width:1500px;overflow:auto;\">\n",
        "<table border=\"1\" class=\"dataframe\">\n",
        "  <thead>\n",
        "    <tr style=\"text-align: right;\">\n",
        "      <th></th>\n",
        "      <th>count</th>\n",
        "    </tr>\n",
        "    <tr>\n",
        "      <th>label</th>\n",
        "      <th></th>\n",
        "    </tr>\n",
        "  </thead>\n",
        "  <tbody>\n",
        "    <tr>\n",
        "      <th>NaN</th>\n",
        "      <td> 0</td>\n",
        "    </tr>\n",
        "  </tbody>\n",
        "</table>\n",
        "<p>1 rows \u00d7 1 columns</p>\n",
        "</div>"
       ],
       "metadata": {},
       "output_type": "display_data",
       "text": [
        "       count\n",
        "label       \n",
        "NaN        0\n",
        "\n",
        "[1 rows x 1 columns]"
       ]
      },
      {
       "output_type": "stream",
       "stream": "stdout",
       "text": [
        "source.name = debate08, N = 3238\n"
       ]
      },
      {
       "html": [
        "<div style=\"max-height:1000px;max-width:1500px;overflow:auto;\">\n",
        "<table border=\"1\" class=\"dataframe\">\n",
        "  <thead>\n",
        "    <tr style=\"text-align: right;\">\n",
        "      <th></th>\n",
        "      <th>count</th>\n",
        "    </tr>\n",
        "    <tr>\n",
        "      <th>label</th>\n",
        "      <th></th>\n",
        "    </tr>\n",
        "  </thead>\n",
        "  <tbody>\n",
        "    <tr>\n",
        "      <th>Negative</th>\n",
        "      <td> 1622</td>\n",
        "    </tr>\n",
        "    <tr>\n",
        "      <th>Neutral</th>\n",
        "      <td>  560</td>\n",
        "    </tr>\n",
        "    <tr>\n",
        "      <th>Positive</th>\n",
        "      <td> 1056</td>\n",
        "    </tr>\n",
        "  </tbody>\n",
        "</table>\n",
        "<p>3 rows \u00d7 1 columns</p>\n",
        "</div>"
       ],
       "metadata": {},
       "output_type": "display_data",
       "text": [
        "          count\n",
        "label          \n",
        "Negative   1622\n",
        "Neutral     560\n",
        "Positive   1056\n",
        "\n",
        "[3 rows x 1 columns]"
       ]
      }
     ],
     "prompt_number": 4
    },
    {
     "cell_type": "code",
     "collapsed": false,
     "input": [
      "times = np.array([doc.published for doc in source_documents('sb5b')]).astype('datetime64[s]')"
     ],
     "language": "python",
     "metadata": {},
     "outputs": [],
     "prompt_number": 46
    },
    {
     "cell_type": "code",
     "collapsed": false,
     "input": [
      "plt.hist(times.astype(float))\n",
      "axes = plt.gca()\n",
      "axes.xaxis.set_major_formatter(ticker.FuncFormatter(datetime_extra.datetime64_formatter))\n",
      "plt.gcf().set_size_inches(12, 5)"
     ],
     "language": "python",
     "metadata": {},
     "outputs": [
      {
       "metadata": {},
       "output_type": "display_data",
       "png": "[encoded data removed]",
       "text": [
        "<matplotlib.figure.Figure at 0x119b4eb50>"
       ]
      }
     ],
     "prompt_number": 48
    },
    {
     "cell_type": "code",
     "collapsed": false,
     "input": [
      "times.astype(float)"
     ],
     "language": "python",
     "metadata": {},
     "outputs": [
      {
       "metadata": {},
       "output_type": "pyout",
       "prompt_number": 42,
       "text": [
        "array([  1.39437959e+09,   1.39437959e+09,   1.39437959e+09, ...,\n",
        "         1.39439522e+09,   1.39439522e+09,   1.39439522e+09])"
       ]
      }
     ],
     "prompt_number": 42
    },
    {
     "cell_type": "code",
     "collapsed": false,
     "input": [
      "array = np.random.negative_binomial(1, .5, 100).reshape(10, -1)\n",
      "np.apply_along_axis(np.count_nonzero, 0, array)"
     ],
     "language": "python",
     "metadata": {},
     "outputs": [
      {
       "metadata": {},
       "output_type": "pyout",
       "prompt_number": 46,
       "text": [
        "array([[0, 0, 0, 3, 0, 1, 5, 0, 0, 0],\n",
        "       [0, 2, 0, 0, 0, 0, 0, 1, 3, 0],\n",
        "       [5, 0, 0, 1, 1, 0, 4, 3, 0, 1],\n",
        "       [0, 0, 1, 0, 3, 0, 0, 0, 1, 4],\n",
        "       [0, 0, 0, 4, 1, 1, 0, 0, 0, 0],\n",
        "       [0, 0, 1, 1, 0, 0, 4, 2, 1, 2],\n",
        "       [2, 1, 4, 4, 0, 1, 0, 1, 1, 0],\n",
        "       [0, 0, 1, 1, 1, 0, 4, 1, 1, 0],\n",
        "       [6, 1, 0, 0, 0, 0, 0, 0, 1, 8],\n",
        "       [2, 0, 0, 0, 1, 0, 0, 4, 0, 0]])"
       ]
      }
     ],
     "prompt_number": 46
    }
   ],
   "metadata": {}
  }
 ]
}