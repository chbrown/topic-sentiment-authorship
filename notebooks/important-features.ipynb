{
 "metadata": {
  "name": ""
 },
 "nbformat": 3,
 "nbformat_minor": 0,
 "worksheets": [
  {
   "cells": [
    {
     "cell_type": "code",
     "collapsed": false,
     "input": [
      "import IPython\n",
      "from IPython.display import HTML\n",
      "\n",
      "import numpy as np\n",
      "import pandas as pd\n",
      "from scipy import sparse\n",
      "from tsa.science import numpy_ext as npx\n",
      "from collections import Counter\n",
      "\n",
      "import viz\n",
      "\n",
      "from sklearn import metrics, cross_validation\n",
      "from sklearn import linear_model, svm, naive_bayes\n",
      "from sklearn import feature_selection\n",
      "\n",
      "from tsa import stdout, stderr\n",
      "from tsa.lib import tabular, datetime_extra, cache\n",
      "from tsa.lib.timer import Timer\n",
      "from tsa.models import Source, Document, create_session\n",
      "from tsa.science import features, timeseries\n",
      "from tsa.science.corpora import MulticlassCorpus\n",
      "from tsa.science.plot import plt, figure_path, distinct_styles, ticker\n",
      "from tsa.science.summarization import metrics_dict, metrics_summary"
     ],
     "language": "python",
     "metadata": {},
     "outputs": [],
     "prompt_number": 10
    },
    {
     "cell_type": "code",
     "collapsed": false,
     "input": [
      "import tsa.science.models\n",
      "reload(tsa.science.models)\n",
      "from tsa.science.models import Bootstrap, SelectKBest"
     ],
     "language": "python",
     "metadata": {},
     "outputs": [],
     "prompt_number": 33
    },
    {
     "cell_type": "code",
     "collapsed": false,
     "input": [
      "full_corpus = MulticlassCorpus(Source.from_name('sb5b', labeled_only=True))\n",
      "full_corpus.apply_labelfunc(lambda doc: doc.label)\n",
      "full_corpus.extract_features(lambda doc: 1, features.intercept)\n",
      "full_corpus.extract_features(lambda doc: doc.document, features.ngrams,\n",
      "    ngram_max=2, min_df=2, max_df=1.0)\n",
      "\n",
      "polar_classes = [full_corpus.class_lookup[label] for label in ['For', 'Against']]\n",
      "polar_indices = np.in1d(full_corpus.y, polar_classes)\n",
      "polar_corpus = full_corpus.subset(rows=polar_indices)"
     ],
     "language": "python",
     "metadata": {},
     "outputs": [],
     "prompt_number": 4
    },
    {
     "cell_type": "code",
     "collapsed": false,
     "input": [
      "def extreme_features(feature_names, feature_values, margin=10):\n",
      "    # Looking at the extremes, based on feature_values\n",
      "    #   sort descending\n",
      "    ordering = np.argsort(-feature_values)\n",
      "    ordered_feature_names = feature_names[ordering]\n",
      "    ordered_feature_values = feature_values[ordering]\n",
      "    \n",
      "    n_features = feature_names.size\n",
      "    slices = [\n",
      "              ('Largest', 0, margin),\n",
      "              ('Middle', (n_features // 2) - (margin // 4), margin // 2),\n",
      "              ('Smallest', n_features - margin, margin),\n",
      "             ]\n",
      "\n",
      "    for name, start, length in slices:\n",
      "        yield name, ordered_feature_values[start:start + length], ordered_feature_names[start:start + length]\n"
     ],
     "language": "python",
     "metadata": {},
     "outputs": [],
     "prompt_number": 5
    },
    {
     "cell_type": "code",
     "collapsed": false,
     "input": [
      "models = [\n",
      "    ('Anova', SelectKBest(score_func=feature_selection.f_classif, k='all')),      \n",
      "    ('Bootstrap', Bootstrap(linear_model.LogisticRegression, n_iter=1000, proportion=1.0, fit_intercept=False, penalty='l2', C=1.0)),\n",
      "    ('Logistic Regression (L2)', linear_model.LogisticRegression(penalty='l2', fit_intercept=False)),\n",
      "    ('Logistic Regression (L2) (C=100)', linear_model.LogisticRegression(penalty='l2', C=100.0, fit_intercept=False)),\n",
      "    ('Logistic Regression (L1)', linear_model.LogisticRegression(penalty='l1', fit_intercept=False)),\n",
      "    # ('randomized_logistic_regression', linear_model.RandomizedLogisticRegression()),\n",
      "    ('Perceptron (L2)', linear_model.Perceptron(penalty='l2', fit_intercept=False)),\n",
      "    ('Perceptron (L1)', linear_model.Perceptron(penalty='l1', fit_intercept=False)),\n",
      "    ('Linear SVC (L2)', svm.LinearSVC(penalty='l2', fit_intercept=False)),\n",
      "    ('Linear SVC (L1)', svm.LinearSVC(penalty='l1', dual=False, fit_intercept=False)),\n",
      "    ('Naive Bayes', naive_bayes.MultinomialNB()),\n",
      "]\n",
      "models = models[:1]"
     ],
     "language": "python",
     "metadata": {},
     "outputs": [],
     "prompt_number": 39
    },
    {
     "cell_type": "code",
     "collapsed": false,
     "input": [
      "# pred_y = model.predict(test_corpus.X)\n",
      "# ordering = np.argsort(-np.abs(coefs))\n",
      "extremes = dict(Largest=pd.DataFrame(), Middle=pd.DataFrame(), Smallest=pd.DataFrame())\n",
      "for model_name, model in models:\n",
      "    model.fit(polar_corpus.X, polar_corpus.y)\n",
      "    print model_name, 'coef_.shape:', model.coef_.shape\n",
      "    for key, values, names in extreme_features(polar_corpus.feature_names, model.coef_.ravel(), margin=10):\n",
      "        extremes[key][model_name] = values\n",
      "        extremes[key][model_name + '-names'] = names\n",
      "\n",
      "    # printer = tabular.Printer(FS=' & ', RS='\\\\\\\\\\n')\n",
      "    # printer.write(row_dict)"
     ],
     "language": "python",
     "metadata": {},
     "outputs": [
      {
       "output_type": "stream",
       "stream": "stdout",
       "text": [
        "Anova coef_.shape: (44457,)\n"
       ]
      }
     ],
     "prompt_number": 40
    },
    {
     "cell_type": "code",
     "collapsed": false,
     "input": [
      "extremes_df = pd.concat(extremes, axis=0)\n",
      "print extremes_df.to_latex(float_format=lambda x: '%5.2f' % x)"
     ],
     "language": "python",
     "metadata": {},
     "outputs": [
      {
       "output_type": "stream",
       "stream": "stdout",
       "text": [
        "\\begin{tabular}{lrl}\n",
        "\\toprule\n",
        "{} &   Anova &     Anova-names \\\\\n",
        "Largest  0 & 5404.26 &          yeson2 \\\\\n",
        "\\midrule\n",
        "         1 & 1650.25 &             yes \\\\\n",
        "         2 & 1193.46 &             sb5 \\\\\n",
        "         3 & 1151.19 &            tcot \\\\\n",
        "         4 & 1105.84 &          yes on \\\\\n",
        "         5 &  836.10 &        vote yes \\\\\n",
        "         6 &  825.18 &   yeson2 issue2 \\\\\n",
        "         7 &  759.76 &     rt gohpblog \\\\\n",
        "         8 &  752.93 &         addthis \\\\\n",
        "         9 &  752.93 &     via addthis \\\\\n",
        "Middle   0 &    0.77 &      seems i've \\\\\n",
        "         1 &    0.77 &    seems doomed \\\\\n",
        "         2 &    0.77 &  seemingly just \\\\\n",
        "         3 &    0.77 &     tonight sb5 \\\\\n",
        "         4 &    0.77 &       seemingly \\\\\n",
        "Smallest 0 &     nan &         in 2007 \\\\\n",
        "         1 &     nan &      a computer \\\\\n",
        "         2 &     nan &            gitu \\\\\n",
        "         3 &     nan &       work into \\\\\n",
        "         4 &     nan &    blog posting \\\\\n",
        "         5 &     nan &    a bellwether \\\\\n",
        "         6 &     nan &          blzzrd \\\\\n",
        "         7 &     nan &           ii of \\\\\n",
        "         8 &     nan &         outlook \\\\\n",
        "         9 &     nan &     \\#intercept\\# \\\\\n",
        "\\bottomrule\n",
        "\\end{tabular}\n",
        "\n"
       ]
      }
     ],
     "prompt_number": 41
    },
    {
     "cell_type": "code",
     "collapsed": false,
     "input": [
      "# model = Bootstrap(linear_model.LogisticRegression, n_iter=1000, proportion=1.0, fit_intercept=False, penalty='l2', C=1.0)\n",
      "# model.fit(polar_corpus.X, polar_corpus.y)\n",
      "model_name = 'Bootstrap-Variance'\n",
      "extremes = dict(Largest=pd.DataFrame(), Middle=pd.DataFrame(), Smallest=pd.DataFrame())\n",
      "feature_values = np.var(model.coefs_, axis=0)\n",
      "for key, values, names in extreme_features(polar_corpus.feature_names, feature_values, margin=10):\n",
      "    extremes[key][model_name] = values\n",
      "    extremes[key][model_name + '-names'] = names\n",
      "extremes_df = pd.concat(extremes, axis=0)\n",
      "print extremes_df.to_latex(float_format=lambda x: '%5.2f' % x)"
     ],
     "language": "python",
     "metadata": {},
     "outputs": [
      {
       "output_type": "stream",
       "stream": "stdout",
       "text": [
        "\\begin{tabular}{lrl}\n",
        "\\toprule\n",
        "{} &  Bootstrap-Variance &     Bootstrap-Variance-names \\\\\n",
        "Largest  0 &                0.33 &                rbschueler rt \\\\\n",
        "\\midrule\n",
        "         1 &                0.27 &                        2 sb5 \\\\\n",
        "         2 &                0.27 &                   supports a \\\\\n",
        "         3 &                0.26 &                   sb5 yeson2 \\\\\n",
        "         4 &                0.24 &                 gohpblog via \\\\\n",
        "         5 &                0.22 &                         tour \\\\\n",
        "         6 &                0.21 &                           st \\\\\n",
        "         7 &                0.21 &     http://t.co/zxuhbfff sb5 \\\\\n",
        "         8 &                0.21 &         http://t.co/zxuhbfff \\\\\n",
        "         9 &                0.21 &  issue2 http://t.co/zxuhbfff \\\\\n",
        "Middle   0 &                0.00 &                          21k \\\\\n",
        "         1 &                0.00 &          http://t.co/gv24doa \\\\\n",
        "         2 &                0.00 &      http://t.co/gv24doa sb5 \\\\\n",
        "         3 &                0.00 &                life services \\\\\n",
        "         4 &                0.00 &                     facts of \\\\\n",
        "Smallest 0 &                0.00 &                       kburdz \\\\\n",
        "         1 &                0.00 &                kburdz hahhaa \\\\\n",
        "         2 &                0.00 &               interview with \\\\\n",
        "         3 &                0.00 &                      slippin \\\\\n",
        "         4 &                0.00 &                           ke \\\\\n",
        "         5 &                0.00 &                   slippin if \\\\\n",
        "         6 &                0.00 &                        belah \\\\\n",
        "         7 &                0.00 &                         dooh \\\\\n",
        "         8 &                0.00 &                   simply the \\\\\n",
        "         9 &                0.00 &                  posting x30 \\\\\n",
        "\\bottomrule\n",
        "\\end{tabular}\n",
        "\n"
       ]
      }
     ],
     "prompt_number": 46
    },
    {
     "cell_type": "code",
     "collapsed": false,
     "input": [
      "print extremes_df.to_latex(float_format=lambda x: '%5.2f' % x)"
     ],
     "language": "python",
     "metadata": {},
     "outputs": [
      {
       "html": [
        "<div style=\"max-height:1000px;max-width:1500px;overflow:auto;\">\n",
        "<table border=\"1\" class=\"dataframe\">\n",
        "  <thead>\n",
        "    <tr style=\"text-align: right;\">\n",
        "      <th></th>\n",
        "      <th></th>\n",
        "      <th>Bootstrap</th>\n",
        "      <th>Bootstrap-names</th>\n",
        "    </tr>\n",
        "  </thead>\n",
        "  <tbody>\n",
        "    <tr>\n",
        "      <th rowspan=\"10\" valign=\"top\">Largest</th>\n",
        "      <th>0</th>\n",
        "      <td> 4.846574</td>\n",
        "      <td>                       yeson2</td>\n",
        "    </tr>\n",
        "    <tr>\n",
        "      <th>1</th>\n",
        "      <td> 2.343425</td>\n",
        "      <td>                         tcot</td>\n",
        "    </tr>\n",
        "    <tr>\n",
        "      <th>2</th>\n",
        "      <td> 2.168048</td>\n",
        "      <td>                    mt notgvn</td>\n",
        "    </tr>\n",
        "    <tr>\n",
        "      <th>3</th>\n",
        "      <td> 2.118053</td>\n",
        "      <td>                     new post</td>\n",
        "    </tr>\n",
        "    <tr>\n",
        "      <th>4</th>\n",
        "      <td> 1.767368</td>\n",
        "      <td>                          yes</td>\n",
        "    </tr>\n",
        "    <tr>\n",
        "      <th>5</th>\n",
        "      <td> 1.725772</td>\n",
        "      <td>                rt rbschueler</td>\n",
        "    </tr>\n",
        "    <tr>\n",
        "      <th>6</th>\n",
        "      <td> 1.577330</td>\n",
        "      <td>                   rbschueler</td>\n",
        "    </tr>\n",
        "    <tr>\n",
        "      <th>7</th>\n",
        "      <td> 1.478200</td>\n",
        "      <td>                      addthis</td>\n",
        "    </tr>\n",
        "    <tr>\n",
        "      <th>8</th>\n",
        "      <td> 1.478200</td>\n",
        "      <td>                  via addthis</td>\n",
        "    </tr>\n",
        "    <tr>\n",
        "      <th>9</th>\n",
        "      <td> 1.408466</td>\n",
        "      <td>                         post</td>\n",
        "    </tr>\n",
        "    <tr>\n",
        "      <th rowspan=\"5\" valign=\"top\">Middle</th>\n",
        "      <th>0</th>\n",
        "      <td>-0.009972</td>\n",
        "      <td>                    short but</td>\n",
        "    </tr>\n",
        "    <tr>\n",
        "      <th>1</th>\n",
        "      <td>-0.009972</td>\n",
        "      <td> friends http://t.co/bkj7cnzd</td>\n",
        "    </tr>\n",
        "    <tr>\n",
        "      <th>2</th>\n",
        "      <td>-0.009974</td>\n",
        "      <td>               we_are_ohio 30</td>\n",
        "    </tr>\n",
        "    <tr>\n",
        "      <th>3</th>\n",
        "      <td>-0.009984</td>\n",
        "      <td>                      to hell</td>\n",
        "    </tr>\n",
        "    <tr>\n",
        "      <th>4</th>\n",
        "      <td>-0.009986</td>\n",
        "      <td>           bargaining remains</td>\n",
        "    </tr>\n",
        "    <tr>\n",
        "      <th rowspan=\"10\" valign=\"top\">Smallest</th>\n",
        "      <th>0</th>\n",
        "      <td>-0.987966</td>\n",
        "      <td>                   sb5 issue2</td>\n",
        "    </tr>\n",
        "    <tr>\n",
        "      <th>1</th>\n",
        "      <td>-1.093064</td>\n",
        "      <td>                    weareohio</td>\n",
        "    </tr>\n",
        "    <tr>\n",
        "      <th>2</th>\n",
        "      <td>-1.108477</td>\n",
        "      <td>                       repeal</td>\n",
        "    </tr>\n",
        "    <tr>\n",
        "      <th>3</th>\n",
        "      <td>-1.126398</td>\n",
        "      <td>                    standupoh</td>\n",
        "    </tr>\n",
        "    <tr>\n",
        "      <th>4</th>\n",
        "      <td>-1.159269</td>\n",
        "      <td>                         fans</td>\n",
        "    </tr>\n",
        "    <tr>\n",
        "      <th>5</th>\n",
        "      <td>-1.313132</td>\n",
        "      <td>                  #intercept#</td>\n",
        "    </tr>\n",
        "    <tr>\n",
        "      <th>6</th>\n",
        "      <td>-1.345831</td>\n",
        "      <td>                    rt notgvn</td>\n",
        "    </tr>\n",
        "    <tr>\n",
        "      <th>7</th>\n",
        "      <td>-1.477294</td>\n",
        "      <td>                           1u</td>\n",
        "    </tr>\n",
        "    <tr>\n",
        "      <th>8</th>\n",
        "      <td>-1.558545</td>\n",
        "      <td>                        no on</td>\n",
        "    </tr>\n",
        "    <tr>\n",
        "      <th>9</th>\n",
        "      <td>-2.074094</td>\n",
        "      <td>                        noon2</td>\n",
        "    </tr>\n",
        "  </tbody>\n",
        "</table>\n",
        "<p>25 rows \u00d7 2 columns</p>\n",
        "</div>"
       ],
       "metadata": {},
       "output_type": "pyout",
       "prompt_number": 19,
       "text": [
        "            Bootstrap               Bootstrap-names\n",
        "Largest  0   4.846574                        yeson2\n",
        "         1   2.343425                          tcot\n",
        "         2   2.168048                     mt notgvn\n",
        "         3   2.118053                      new post\n",
        "         4   1.767368                           yes\n",
        "         5   1.725772                 rt rbschueler\n",
        "         6   1.577330                    rbschueler\n",
        "         7   1.478200                       addthis\n",
        "         8   1.478200                   via addthis\n",
        "         9   1.408466                          post\n",
        "Middle   0  -0.009972                     short but\n",
        "         1  -0.009972  friends http://t.co/bkj7cnzd\n",
        "         2  -0.009974                we_are_ohio 30\n",
        "         3  -0.009984                       to hell\n",
        "         4  -0.009986            bargaining remains\n",
        "Smallest 0  -0.987966                    sb5 issue2\n",
        "         1  -1.093064                     weareohio\n",
        "         2  -1.108477                        repeal\n",
        "         3  -1.126398                     standupoh\n",
        "         4  -1.159269                          fans\n",
        "         5  -1.313132                   #intercept#\n",
        "         6  -1.345831                     rt notgvn\n",
        "         7  -1.477294                            1u\n",
        "         8  -1.558545                         no on\n",
        "         9  -2.074094                         noon2\n",
        "\n",
        "[25 rows x 2 columns]"
       ]
      }
     ],
     "prompt_number": 19
    },
    {
     "cell_type": "code",
     "collapsed": false,
     "input": [
      "for k in [10, 20, 30, 40, 50, 100, 200, 250, 500, 750, 1000, 5000, 10000]:\n",
      "    subvocab_corpus = corpus_top_k_features_subset(polar_corpus, polar_model, k)\n",
      "    accuracy = corpus_mean_accuracy(subvocab_corpus, penalty=regularization, n_iter=10)\n"
     ],
     "language": "python",
     "metadata": {},
     "outputs": []
    },
    {
     "cell_type": "code",
     "collapsed": false,
     "input": [
      "k_best_model = SelectKBest(score_func=feature_selection.f_classif, k=10)\n",
      "k_best_model.fit(polar_corpus.X, polar_corpus.y)\n",
      "plt.hist(k_best_model.coef_)"
     ],
     "language": "python",
     "metadata": {},
     "outputs": [
      {
       "metadata": {},
       "output_type": "pyout",
       "prompt_number": 37,
       "text": [
        "array([37759,  7245,  9976, ...,  5406, 19131,     0])"
       ]
      }
     ],
     "prompt_number": 37
    },
    {
     "cell_type": "code",
     "collapsed": false,
     "input": [
      "f_values, p_values = feature_selection.f_classif(polar_corpus.X, polar_corpus.y)\n",
      "f_values = f_values[~np.isnan(f_values)]\n",
      "p_values = p_values[~np.isnan(p_values)]"
     ],
     "language": "python",
     "metadata": {},
     "outputs": [],
     "prompt_number": 26
    },
    {
     "cell_type": "code",
     "collapsed": false,
     "input": [
      "_ = plt.hist(f_values, log=True, bins=50)\n",
      "f_values.max()"
     ],
     "language": "python",
     "metadata": {},
     "outputs": [
      {
       "metadata": {},
       "output_type": "pyout",
       "prompt_number": 42,
       "text": [
        "5404.2595524861472"
       ]
      },
      {
       "metadata": {},
       "output_type": "display_data",
       "png": "[encoded data removed]",
       "text": [
        "<matplotlib.figure.Figure at 0x10e165f10>"
       ]
      }
     ],
     "prompt_number": 42
    },
    {
     "cell_type": "code",
     "collapsed": false,
     "input": [
      "plt.hist(anova_f_value)"
     ],
     "language": "python",
     "metadata": {},
     "outputs": [
      {
       "ename": "AttributeError",
       "evalue": "max must be larger than min in range parameter.",
       "output_type": "pyerr",
       "traceback": [
        "\u001b[0;31m---------------------------------------------------------------------------\u001b[0m\n\u001b[0;31mAttributeError\u001b[0m                            Traceback (most recent call last)",
        "\u001b[0;32m<ipython-input-47-e45744d43c81>\u001b[0m in \u001b[0;36m<module>\u001b[0;34m()\u001b[0m\n\u001b[0;32m----> 1\u001b[0;31m \u001b[0mplt\u001b[0m\u001b[0;34m.\u001b[0m\u001b[0mhist\u001b[0m\u001b[0;34m(\u001b[0m\u001b[0manova_f_value\u001b[0m\u001b[0;34m)\u001b[0m\u001b[0;34m\u001b[0m\u001b[0m\n\u001b[0m",
        "\u001b[0;32m/Library/Python/2.7/site-packages/matplotlib-override/matplotlib/pyplot.pyc\u001b[0m in \u001b[0;36mhist\u001b[0;34m(x, bins, range, normed, weights, cumulative, bottom, histtype, align, orientation, rwidth, log, color, label, stacked, hold, **kwargs)\u001b[0m\n\u001b[1;32m   2825\u001b[0m                       \u001b[0mhisttype\u001b[0m\u001b[0;34m=\u001b[0m\u001b[0mhisttype\u001b[0m\u001b[0;34m,\u001b[0m \u001b[0malign\u001b[0m\u001b[0;34m=\u001b[0m\u001b[0malign\u001b[0m\u001b[0;34m,\u001b[0m \u001b[0morientation\u001b[0m\u001b[0;34m=\u001b[0m\u001b[0morientation\u001b[0m\u001b[0;34m,\u001b[0m\u001b[0;34m\u001b[0m\u001b[0m\n\u001b[1;32m   2826\u001b[0m                       \u001b[0mrwidth\u001b[0m\u001b[0;34m=\u001b[0m\u001b[0mrwidth\u001b[0m\u001b[0;34m,\u001b[0m \u001b[0mlog\u001b[0m\u001b[0;34m=\u001b[0m\u001b[0mlog\u001b[0m\u001b[0;34m,\u001b[0m \u001b[0mcolor\u001b[0m\u001b[0;34m=\u001b[0m\u001b[0mcolor\u001b[0m\u001b[0;34m,\u001b[0m \u001b[0mlabel\u001b[0m\u001b[0;34m=\u001b[0m\u001b[0mlabel\u001b[0m\u001b[0;34m,\u001b[0m\u001b[0;34m\u001b[0m\u001b[0m\n\u001b[0;32m-> 2827\u001b[0;31m                       stacked=stacked, **kwargs)\n\u001b[0m\u001b[1;32m   2828\u001b[0m         \u001b[0mdraw_if_interactive\u001b[0m\u001b[0;34m(\u001b[0m\u001b[0;34m)\u001b[0m\u001b[0;34m\u001b[0m\u001b[0m\n\u001b[1;32m   2829\u001b[0m     \u001b[0;32mfinally\u001b[0m\u001b[0;34m:\u001b[0m\u001b[0;34m\u001b[0m\u001b[0m\n",
        "\u001b[0;32m/Library/Python/2.7/site-packages/matplotlib-override/matplotlib/axes.pyc\u001b[0m in \u001b[0;36mhist\u001b[0;34m(self, x, bins, range, normed, weights, cumulative, bottom, histtype, align, orientation, rwidth, log, color, label, stacked, **kwargs)\u001b[0m\n\u001b[1;32m   8324\u001b[0m             \u001b[0;31m# this will automatically overwrite bins,\u001b[0m\u001b[0;34m\u001b[0m\u001b[0;34m\u001b[0m\u001b[0m\n\u001b[1;32m   8325\u001b[0m             \u001b[0;31m# so that each histogram uses the same bins\u001b[0m\u001b[0;34m\u001b[0m\u001b[0;34m\u001b[0m\u001b[0m\n\u001b[0;32m-> 8326\u001b[0;31m             \u001b[0mm\u001b[0m\u001b[0;34m,\u001b[0m \u001b[0mbins\u001b[0m \u001b[0;34m=\u001b[0m \u001b[0mnp\u001b[0m\u001b[0;34m.\u001b[0m\u001b[0mhistogram\u001b[0m\u001b[0;34m(\u001b[0m\u001b[0mx\u001b[0m\u001b[0;34m[\u001b[0m\u001b[0mi\u001b[0m\u001b[0;34m]\u001b[0m\u001b[0;34m,\u001b[0m \u001b[0mbins\u001b[0m\u001b[0;34m,\u001b[0m \u001b[0mweights\u001b[0m\u001b[0;34m=\u001b[0m\u001b[0mw\u001b[0m\u001b[0;34m[\u001b[0m\u001b[0mi\u001b[0m\u001b[0;34m]\u001b[0m\u001b[0;34m,\u001b[0m \u001b[0;34m**\u001b[0m\u001b[0mhist_kwargs\u001b[0m\u001b[0;34m)\u001b[0m\u001b[0;34m\u001b[0m\u001b[0m\n\u001b[0m\u001b[1;32m   8327\u001b[0m             \u001b[0mm\u001b[0m \u001b[0;34m=\u001b[0m \u001b[0mm\u001b[0m\u001b[0;34m.\u001b[0m\u001b[0mastype\u001b[0m\u001b[0;34m(\u001b[0m\u001b[0mfloat\u001b[0m\u001b[0;34m)\u001b[0m \u001b[0;31m# causes problems later if it's an int\u001b[0m\u001b[0;34m\u001b[0m\u001b[0m\n\u001b[1;32m   8328\u001b[0m             \u001b[0;32mif\u001b[0m \u001b[0mmlast\u001b[0m \u001b[0;32mis\u001b[0m \u001b[0mNone\u001b[0m\u001b[0;34m:\u001b[0m\u001b[0;34m\u001b[0m\u001b[0m\n",
        "\u001b[0;32m/Library/Python/2.7/site-packages/numpy-1.8.0-py2.7-macosx-10.9-intel.egg/numpy/lib/function_base.pyc\u001b[0m in \u001b[0;36mhistogram\u001b[0;34m(a, bins, range, normed, weights, density)\u001b[0m\n\u001b[1;32m    163\u001b[0m         \u001b[0;32mif\u001b[0m \u001b[0;34m(\u001b[0m\u001b[0mmn\u001b[0m \u001b[0;34m>\u001b[0m \u001b[0mmx\u001b[0m\u001b[0;34m)\u001b[0m\u001b[0;34m:\u001b[0m\u001b[0;34m\u001b[0m\u001b[0m\n\u001b[1;32m    164\u001b[0m             raise AttributeError(\n\u001b[0;32m--> 165\u001b[0;31m                 'max must be larger than min in range parameter.')\n\u001b[0m\u001b[1;32m    166\u001b[0m \u001b[0;34m\u001b[0m\u001b[0m\n\u001b[1;32m    167\u001b[0m     \u001b[0;32mif\u001b[0m \u001b[0;32mnot\u001b[0m \u001b[0miterable\u001b[0m\u001b[0;34m(\u001b[0m\u001b[0mbins\u001b[0m\u001b[0;34m)\u001b[0m\u001b[0;34m:\u001b[0m\u001b[0;34m\u001b[0m\u001b[0m\n",
        "\u001b[0;31mAttributeError\u001b[0m: max must be larger than min in range parameter."
       ]
      },
      {
       "metadata": {},
       "output_type": "display_data",
       "png": "[encoded data removed]",
       "text": [
        "<matplotlib.figure.Figure at 0x110450150>"
       ]
      }
     ],
     "prompt_number": 47
    },
    {
     "cell_type": "markdown",
     "metadata": {},
     "source": [
      "Looking more closely at coefficients..."
     ]
    },
    {
     "cell_type": "code",
     "collapsed": false,
     "input": [
      "model = linear_model.LogisticRegression(penalty='l2', fit_intercept=False)\n",
      "model.fit(polar_corpus.X, polar_corpus.y)"
     ],
     "language": "python",
     "metadata": {},
     "outputs": [
      {
       "metadata": {},
       "output_type": "pyout",
       "prompt_number": 49,
       "text": [
        "LogisticRegression(C=1.0, class_weight=None, dual=False, fit_intercept=False,\n",
        "          intercept_scaling=1, penalty='l2', random_state=None, tol=0.0001)"
       ]
      }
     ],
     "prompt_number": 49
    },
    {
     "cell_type": "code",
     "collapsed": false,
     "input": [
      "coefs = np.array(model.coef_).ravel()\n",
      "print coefs.shape, polar_corpus.X.shape\n",
      "# transforms = \n",
      "pred_proba = model.predict_proba(polar_corpus.X)"
     ],
     "language": "python",
     "metadata": {},
     "outputs": [
      {
       "output_type": "stream",
       "stream": "stdout",
       "text": [
        "(44457,) (13627, 44457)\n"
       ]
      }
     ],
     "prompt_number": 115
    },
    {
     "cell_type": "code",
     "collapsed": false,
     "input": [],
     "language": "python",
     "metadata": {},
     "outputs": [
      {
       "metadata": {},
       "output_type": "pyout",
       "prompt_number": 119,
       "text": [
        "array([-2.94242193, -5.00651379, -2.04951597, ...,  3.30586113,\n",
        "       -3.46296837, -2.72529591])"
       ]
      }
     ],
     "prompt_number": 119
    },
    {
     "cell_type": "code",
     "collapsed": false,
     "input": [
      "import viz\n",
      "def gloss_datum(corpus, index, coefs):\n",
      "    document = corpus.data[index]\n",
      "    x = corpus.X[index].toarray().ravel()\n",
      "    #prob = pred_proba[index]\n",
      "    nonzero_features = x > 0\n",
      "    nonzero_feature_names = corpus.feature_names[nonzero_features]\n",
      "    projection = x * coefs\n",
      "    nonzero_values = projection[nonzero_features]\n",
      "    #     reordering = np.argsort(x_coefs)\n",
      "    pairs = zip(nonzero_feature_names, ['%.2f' % x for x in nonzero_values])\n",
      "    fulltext = document.document.replace('\\n', ' ')\n",
      "    return document.label, fulltext, pd.DataFrame.from_dict(\n",
      "        dict(tokens=np.concatenate((nonzero_feature_names, ['SUM'])),\n",
      "             values=np.concatenate((nonzero_values, [sum(projection)])))).T"
     ],
     "language": "python",
     "metadata": {},
     "outputs": [],
     "prompt_number": 125
    },
    {
     "cell_type": "code",
     "collapsed": false,
     "input": [
      "\n",
      "#     print\n",
      "    #     print '--- %s ---' % test_corpus.labels[test_corpus.y[index]]\n",
      "#     print '%s (%s)' % ( document.label)\n",
      "    #     print dict(zip(corpus.labels[model.classes_], prob))\n",
      "#     print viz.gloss.gloss([('', 'means')] + pairs + [('SUM', )])\n"
     ],
     "language": "python",
     "metadata": {},
     "outputs": []
    },
    {
     "cell_type": "code",
     "collapsed": false,
     "input": [
      "pred_proba, npx.hmean(np.array([[ 0.9999 ,  0.0001 ]]), axis=1)"
     ],
     "language": "python",
     "metadata": {},
     "outputs": [
      {
       "metadata": {},
       "output_type": "pyout",
       "prompt_number": 126,
       "text": [
        "(array([[ 0.9499041 ,  0.0500959 ],\n",
        "       [ 0.99335031,  0.00664969],\n",
        "       [ 0.8858987 ,  0.1141013 ],\n",
        "       ..., \n",
        "       [ 0.03537066,  0.96462934],\n",
        "       [ 0.96961554,  0.03038446],\n",
        "       [ 0.9385029 ,  0.0614971 ]]),\n",
        " array([ 0.00019998]))"
       ]
      }
     ],
     "prompt_number": 126
    },
    {
     "cell_type": "code",
     "collapsed": false,
     "input": [
      "values = npx.hmean(pred_proba, axis=1)\n",
      "values = polar_corpus.X.dot(coefs)\n",
      "ordering = np.argsort(values)\n",
      "selected_indices = ordering[-20:]\n",
      "\n",
      "for selected_index in selected_indices:\n",
      "#     print selected_index, values[selected_index]\n",
      "\n",
      "    label, text, table = gloss_datum(polar_corpus, selected_index, coefs)\n",
      "    print selected_index, label, text, values[selected_index]\n",
      "    \n"
     ],
     "language": "python",
     "metadata": {},
     "outputs": [
      {
       "output_type": "stream",
       "stream": "stdout",
       "text": [
        "10720 For YES on #SB5: What government unions don't want you to know - YouTube http://t.co/IUXxKIsi via @addthis #Issue2 #YesOn2 #Ohio #tcot 13.4984163064\n",
        "10227 For YES on #SB5: What government unions don't want you to know - YouTube http://t.co/IUXxKIsi via @addthis #Issue2 #YesOn2 #Ohio #tcot 13.4984163064\n",
        "9656"
       ]
      },
      {
       "output_type": "stream",
       "stream": "stdout",
       "text": [
        " For RT @rbschueler: RT @laborunionrpt The Cost of Voting No on #Ohio #Issue2 http://t.co/sNDJ2WEL via @jasonahart #tcot #LUR #teaparty #SB5 #YesOn2 13.5451784441\n",
        "7711 For Unions Hire Researcher With A Taste For Being Paid Off | GOHP Blog http://t.co/h3ujxKRm via @addthis / #YesOn2 #Issue2 #Ohio #sb5 #p2 #tcot 13.5453253553\n",
        "11746"
       ]
      },
      {
       "output_type": "stream",
       "stream": "stdout",
       "text": [
        " For Bold Colors: Why I Will Vote Yes on #Issue2 / SB 5 (Part 3) http://t.co/NIgVVUy8 via @addthis #YesOn2 #sb5 #ohtcot #tcot #bcot #sgp #ohio 13.5584117509\n",
        "12863 For Union Thugs Want Your Children\u00a0|\u00a0Godfather Politics http://t.co/WJ9MmeRn via @addthis #education #tcot #YesOn2 #Issue2 #schoolchoice 13.65662581\n",
        "7797"
       ]
      },
      {
       "output_type": "stream",
       "stream": "stdout",
       "text": [
        " For PolitiFact | We Are Ohio's file http://t.co/QQUbZMf9 via @addthis / Get the #FACTS on #Issue2 #YesOn2 #Ohio #ohtcot #tcot #p2 #tlot #bcot 13.7652619833\n",
        "9393 For Cincinnati Enquirer Endorses a YES on #Issue2 | Building a Better Ohio http://t.co/CVxfeWdx via @addthis #YesOn2 #Ohio #tcot #bcot #sgp 13.802435217\n",
        "11422 For Hamilton Co. Chief Deputy Sheriff Supports #Issue2 - YouTube http://t.co/ltyweTiF via @addthis Vote #YESon2 #Ohio #tcot #sgp #bcot #tpp 13.8229150405\n",
        "12070"
       ]
      },
      {
       "output_type": "stream",
       "stream": "stdout",
       "text": [
        " For RT @cutiefool: #OurTP Yes on ISSUES 2 & 3 #YesOn2 #YesOn3 #OH #Issue2 #Issue3 http://t.co/1vB0tVoI @OurTPorg  #TCOT 13.8985366912\n",
        "10850 For RT @FairTaxNancy: Support Ohio's farmers; vote yes on #Issue2 http://t.co/HCqe3ZWH via @addthis #sb5 #YesOn2 #ohio #tcot 14.0216947218\n",
        "10851 For RT @FairTaxNancy: Support Ohio's farmers; vote yes on #Issue2 http://t.co/HCqe3ZWH via @addthis #sb5 #YesOn2 #ohio #tcot 14.0216947218\n",
        "8544"
       ]
      },
      {
       "output_type": "stream",
       "stream": "stdout",
       "text": [
        " For RT @rbschueler: RT @GOHPBlog Bottom Line: A YES vote on #Issue2 will save tax dollars, save jobs and hold government accountable. #YesOn2 #FF 14.1315284239\n",
        "8605 For RT @rbschueler: RT @laborunionrpt Unions To Ohio Taxpayers: We Will Bury You #tcot #LUR #unions #Ohio #Yeson2 #SB5 #Issue2 #ohtcot http://t.co/AzuVMnEA 14.2888087841\n",
        "8537 For RT @rbschueler: RT @FreedomWorks Ohio Union Lies, Half-truths, and RACISM! http://t.co/P29bYKiO via @JasonAHart Vote YES on #Issue2 ! #SB5 #YesOn2 14.3024516465\n",
        "8868"
       ]
      },
      {
       "output_type": "stream",
       "stream": "stdout",
       "text": [
        " For RT @SpielzOnWheels: If you support #schoolchoice and real education reform urge OH to vote yes on #issue2.  Vote Yes on 2. #yeson2 14.5528087418\n",
        "10229 For RT @FairTaxNancy: YES on #SB5: What government unions don't want you to know - YouTube http://t.co/IUXxKIsi via @addthis #Issue2 #YesOn2 #Ohio #tcot 15.2966330775\n",
        "9398 For RT @FairTaxNancy: Cincinnati Enquirer Endorses a YES on #Issue2 | Building a Better Ohio http://t.co/CVxfeWdx via @addthis #YesOn2 #Ohio #tcot #bcot #sgp 15.5958035235\n",
        "9396"
       ]
      },
      {
       "output_type": "stream",
       "stream": "stdout",
       "text": [
        " For RT @FairTaxNancy: Cincinnati Enquirer Endorses a YES on #Issue2 | Building a Better Ohio http://t.co/CVxfeWdx via @addthis #YesOn2 #Ohio #tcot #bcot #sgp 15.5958035235\n",
        "11423 For RT @FairTaxNancy: Hamilton Co. Chief Deputy Sheriff Supports #Issue2 - YouTube http://t.co/ltyweTiF via @addthis Vote #YESon2 #Ohio #tcot #sgp #bcot #tpp 15.6162762168\n"
       ]
      }
     ],
     "prompt_number": 144
    },
    {
     "cell_type": "code",
     "collapsed": false,
     "input": [
      "selected_index = 9656\n",
      "print int(selected_index)\n",
      "label, text, table = gloss_datum(polar_corpus, selected_index, coefs)\n",
      "print label, text\n",
      "HTML(table.to_html(float_format=lambda x: '%.2f' % x))"
     ],
     "language": "python",
     "metadata": {},
     "outputs": [
      {
       "output_type": "stream",
       "stream": "stdout",
       "text": [
        "9656\n",
        "For RT @rbschueler: RT @laborunionrpt The Cost of Voting No on #Ohio #Issue2 http://t.co/sNDJ2WEL via @jasonahart #tcot #LUR #teaparty #SB5 #YesOn2\n"
       ]
      },
      {
       "html": [
        "<table border=\"1\" class=\"dataframe\">\n",
        "  <thead>\n",
        "    <tr style=\"text-align: right;\">\n",
        "      <th></th>\n",
        "      <th>0</th>\n",
        "      <th>1</th>\n",
        "      <th>2</th>\n",
        "      <th>3</th>\n",
        "      <th>4</th>\n",
        "      <th>5</th>\n",
        "      <th>6</th>\n",
        "      <th>7</th>\n",
        "      <th>8</th>\n",
        "      <th>9</th>\n",
        "      <th>10</th>\n",
        "      <th>11</th>\n",
        "      <th>12</th>\n",
        "      <th>13</th>\n",
        "      <th>14</th>\n",
        "      <th>15</th>\n",
        "      <th>16</th>\n",
        "      <th>17</th>\n",
        "      <th>18</th>\n",
        "      <th>19</th>\n",
        "      <th>20</th>\n",
        "      <th>21</th>\n",
        "      <th>22</th>\n",
        "      <th>23</th>\n",
        "      <th>24</th>\n",
        "      <th>25</th>\n",
        "      <th>26</th>\n",
        "      <th>27</th>\n",
        "      <th>28</th>\n",
        "      <th>29</th>\n",
        "      <th>30</th>\n",
        "      <th>31</th>\n",
        "      <th>32</th>\n",
        "      <th>33</th>\n",
        "    </tr>\n",
        "  </thead>\n",
        "  <tbody>\n",
        "    <tr>\n",
        "      <th>tokens</th>\n",
        "      <td> #intercept#</td>\n",
        "      <td> cost</td>\n",
        "      <td> cost of</td>\n",
        "      <td> issue2</td>\n",
        "      <td> jasonahart</td>\n",
        "      <td> laborunionrpt</td>\n",
        "      <td> lur</td>\n",
        "      <td>   no</td>\n",
        "      <td> no on</td>\n",
        "      <td>   of</td>\n",
        "      <td> of voting</td>\n",
        "      <td> ohio</td>\n",
        "      <td> ohio issue2</td>\n",
        "      <td>   on</td>\n",
        "      <td> on ohio</td>\n",
        "      <td> rbschueler</td>\n",
        "      <td> rbschueler rt</td>\n",
        "      <td>  rt</td>\n",
        "      <td> rt laborunionrpt</td>\n",
        "      <td> rt rbschueler</td>\n",
        "      <td>  sb5</td>\n",
        "      <td> sb5 yeson2</td>\n",
        "      <td> tcot</td>\n",
        "      <td> tcot lur</td>\n",
        "      <td> teaparty</td>\n",
        "      <td> teaparty sb5</td>\n",
        "      <td> the</td>\n",
        "      <td> the cost</td>\n",
        "      <td> via</td>\n",
        "      <td> via jasonahart</td>\n",
        "      <td> voting</td>\n",
        "      <td> voting no</td>\n",
        "      <td> yeson2</td>\n",
        "      <td>  SUM</td>\n",
        "    </tr>\n",
        "    <tr>\n",
        "      <th>values</th>\n",
        "      <td>       -1.30</td>\n",
        "      <td> 0.59</td>\n",
        "      <td>    0.71</td>\n",
        "      <td>  -0.11</td>\n",
        "      <td>       0.76</td>\n",
        "      <td>          0.47</td>\n",
        "      <td>0.88</td>\n",
        "      <td>-0.83</td>\n",
        "      <td> -1.60</td>\n",
        "      <td>-0.16</td>\n",
        "      <td>      0.66</td>\n",
        "      <td> 0.05</td>\n",
        "      <td>       -0.19</td>\n",
        "      <td>-0.03</td>\n",
        "      <td>    0.76</td>\n",
        "      <td>       1.63</td>\n",
        "      <td>         -0.65</td>\n",
        "      <td>0.71</td>\n",
        "      <td>             0.39</td>\n",
        "      <td>          1.86</td>\n",
        "      <td>-0.88</td>\n",
        "      <td>      -0.36</td>\n",
        "      <td> 2.39</td>\n",
        "      <td>     0.00</td>\n",
        "      <td>     0.74</td>\n",
        "      <td>         0.01</td>\n",
        "      <td>0.00</td>\n",
        "      <td>     0.67</td>\n",
        "      <td>0.18</td>\n",
        "      <td>           0.59</td>\n",
        "      <td>   0.34</td>\n",
        "      <td>      0.42</td>\n",
        "      <td>   4.82</td>\n",
        "      <td>13.55</td>\n",
        "    </tr>\n",
        "  </tbody>\n",
        "</table>"
       ],
       "metadata": {},
       "output_type": "pyout",
       "prompt_number": 145,
       "text": [
        "<IPython.core.display.HTML at 0x1106cef90>"
       ]
      }
     ],
     "prompt_number": 145
    },
    {
     "cell_type": "code",
     "collapsed": false,
     "input": [
      "print table.T.to_latex(float_format=lambda x: '%.2f' % x)"
     ],
     "language": "python",
     "metadata": {},
     "outputs": [
      {
       "output_type": "stream",
       "stream": "stdout",
       "text": [
        "\\begin{tabular}{lll}\n",
        "\\toprule\n",
        "{} &            tokens & values \\\\\n",
        "\\midrule\n",
        "0  &       \\#intercept\\# &  -1.30 \\\\\n",
        "1  &              cost &   0.59 \\\\\n",
        "2  &           cost of &   0.71 \\\\\n",
        "3  &            issue2 &  -0.11 \\\\\n",
        "4  &        jasonahart &   0.76 \\\\\n",
        "5  &     laborunionrpt &   0.47 \\\\\n",
        "6  &               lur &   0.88 \\\\\n",
        "7  &                no &  -0.83 \\\\\n",
        "8  &             no on &  -1.60 \\\\\n",
        "9  &                of &  -0.16 \\\\\n",
        "10 &         of voting &   0.66 \\\\\n",
        "11 &              ohio &   0.05 \\\\\n",
        "12 &       ohio issue2 &  -0.19 \\\\\n",
        "13 &                on &  -0.03 \\\\\n",
        "14 &           on ohio &   0.76 \\\\\n",
        "15 &        rbschueler &   1.63 \\\\\n",
        "16 &     rbschueler rt &  -0.65 \\\\\n",
        "17 &                rt &   0.71 \\\\\n",
        "18 &  rt laborunionrpt &   0.39 \\\\\n",
        "19 &     rt rbschueler &   1.86 \\\\\n",
        "20 &               sb5 &  -0.88 \\\\\n",
        "21 &        sb5 yeson2 &  -0.36 \\\\\n",
        "22 &              tcot &   2.39 \\\\\n",
        "23 &          tcot lur &   0.00 \\\\\n",
        "24 &          teaparty &   0.74 \\\\\n",
        "25 &      teaparty sb5 &   0.01 \\\\\n",
        "26 &               the &   0.00 \\\\\n",
        "27 &          the cost &   0.67 \\\\\n",
        "28 &               via &   0.18 \\\\\n",
        "29 &    via jasonahart &   0.59 \\\\\n",
        "30 &            voting &   0.34 \\\\\n",
        "31 &         voting no &   0.42 \\\\\n",
        "32 &            yeson2 &   4.82 \\\\\n",
        "33 &               SUM &  13.55 \\\\\n",
        "\\bottomrule\n",
        "\\end{tabular}\n",
        "\n"
       ]
      }
     ],
     "prompt_number": 148
    },
    {
     "cell_type": "code",
     "collapsed": false,
     "input": [
      "nonzero_feature_names = polar_corpus.feature_names[1:9]\n",
      "np.concatenate((nonzero_feature_names, ['hi']))"
     ],
     "language": "python",
     "metadata": {},
     "outputs": [],
     "prompt_number": 96
    },
    {
     "cell_type": "code",
     "collapsed": false,
     "input": [
      "nonzero_feature_names"
     ],
     "language": "python",
     "metadata": {},
     "outputs": [
      {
       "metadata": {},
       "output_type": "pyout",
       "prompt_number": 97,
       "text": [
        "array([u'0', u'0 1', u'0 issue2', u'00.00', u'00.00 the', u'03', u'04',\n",
        "       u'08'], \n",
        "      dtype='<U61')"
       ]
      }
     ],
     "prompt_number": 97
    },
    {
     "cell_type": "code",
     "collapsed": false,
     "input": [],
     "language": "python",
     "metadata": {},
     "outputs": [
      {
       "metadata": {},
       "output_type": "pyout",
       "prompt_number": 101,
       "text": [
        "array([u'0', u'0 1', u'0 issue2', u'00.00', u'00.00 the', u'03', u'04',\n",
        "       u'08', u'hi'], \n",
        "      dtype='<U61')"
       ]
      }
     ],
     "prompt_number": 101
    },
    {
     "cell_type": "code",
     "collapsed": false,
     "input": [],
     "language": "python",
     "metadata": {},
     "outputs": []
    }
   ],
   "metadata": {}
  }
 ]
}