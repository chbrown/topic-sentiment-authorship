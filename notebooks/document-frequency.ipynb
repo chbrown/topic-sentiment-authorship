{
 "metadata": {
  "name": ""
 },
 "nbformat": 3,
 "nbformat_minor": 0,
 "worksheets": [
  {
   "cells": [
    {
     "cell_type": "code",
     "collapsed": false,
     "input": [
      "import IPython\n",
      "import numpy as np\n",
      "import pandas as pd\n",
      "from tsa.science import numpy_ext as npx\n",
      "# from itertools import groupby\n",
      "from sqlalchemy import func\n",
      "\n",
      "from tsa.lib import datetime_extra\n",
      "from tsa.science.plot import plt, figure_path, distinct_styles, ticker\n",
      "from tsa.science import features, models, timeseries\n",
      "from tsa.science.corpora import MulticlassCorpus\n",
      "from tsa.models import Source, Document, create_session"
     ],
     "language": "python",
     "metadata": {},
     "outputs": [],
     "prompt_number": 1
    },
    {
     "cell_type": "code",
     "collapsed": false,
     "input": [
      "DBSession = create_session()\n",
      "def source_documents(source_name):\n",
      "    return DBSession.query(Document).\\\n",
      "        join(Source, Source.id == Document.source_id).\\\n",
      "        filter(Source.name == source_name).all()"
     ],
     "language": "python",
     "metadata": {},
     "outputs": [],
     "prompt_number": 3
    },
    {
     "cell_type": "code",
     "collapsed": false,
     "input": [
      "corpus = MulticlassCorpus(source_documents('twitter-sample'))\n",
      "corpus.apply_labelfunc(lambda doc: doc.label)\n",
      "corpus.extract_features(lambda doc: doc.document, features.ngrams,\n",
      "    ngram_max=2, min_df=2, max_df=1.0)\n",
      "\n",
      "array = corpus.X.tocsc()\n",
      "print array.shape\n",
      "nrows, ncols = array.shape\n",
      "\n",
      "idf = float(nrows) / np.array([array[:, col].nnz for col in xrange(ncols)])\n",
      "log_idf = np.log(idf)\n",
      "_ = plt.hist(log_idf)"
     ],
     "language": "python",
     "metadata": {},
     "outputs": [
      {
       "output_type": "stream",
       "stream": "stdout",
       "text": [
        "[ 1.02881294  1.51709712  1.58716583  1.68263215  1.75882094  1.81503301\n",
        "  2.10480568  2.18729028  2.22346775  2.2776509   2.28366974  2.29342217\n",
        "  2.32334295  2.35969587  2.63416309  2.63568318  2.65333231  2.77177913\n",
        "  2.8443177   2.88154842  2.90020123  3.02856882  3.04757988  3.06662492\n",
        "  3.08638073  3.10254061  3.10688278  3.13871571  3.15483779  3.20751607\n",
        "  3.23068914  3.28784756  3.3034039   3.30446378  3.31705598  3.31985199\n",
        "  3.34096497  3.36298298  3.41017784  3.41206552  3.41632588  3.43162255\n",
        "  3.44349428  3.48301726  3.4837782   3.51287022  3.63970665  3.65826451\n",
        "  3.68707434  3.70085039]\n"
       ]
      },
      {
       "metadata": {},
       "output_type": "pyout",
       "prompt_number": 4,
       "text": [
        "array([u'rt', u'i', u'the', u'to', u'you', u'a', u'and', u'this', u'is',\n",
        "       u'my', u'in', u'for', u'me', u'of', u'on', u'so', u'it', u'that',\n",
        "       u'be', u'at', u'with', u'just', u\"i'm\", u'have', u'like', u'your',\n",
        "       u'if', u'love', u'are', u'was', u'but', u'not', u'get', u'all',\n",
        "       u'when', u'follow', u'up', u'now', u'can', u'do', u'we', u\"don't\",\n",
        "       u'out', u'by', u'one', u'what', u'no', u'who', u'today', u'much'], \n",
        "      dtype='<U200')"
       ]
      },
      {
       "metadata": {},
       "output_type": "display_data",
       "png": "[encoded data removed]",
       "text": [
        "<matplotlib.figure.Figure at 0x1141ca490>"
       ]
      }
     ],
     "prompt_number": 4
    },
    {
     "cell_type": "code",
     "collapsed": false,
     "input": [
      "ordering = np.argsort(log_idf)\n",
      "k = 50\n",
      "print log_idf[ordering][0:k]\n",
      "corpus.feature_names[ordering][0:k]"
     ],
     "language": "python",
     "metadata": {},
     "outputs": []
    },
    {
     "cell_type": "code",
     "collapsed": false,
     "input": [],
     "language": "python",
     "metadata": {},
     "outputs": [
      {
       "metadata": {},
       "output_type": "pyout",
       "prompt_number": 33,
       "text": [
        "((146496,), array([160,   5,   2, ...,   3,   2,   2]))"
       ]
      }
     ],
     "prompt_number": 33
    },
    {
     "cell_type": "code",
     "collapsed": false,
     "input": [
      "frequencies = np.ravel(array.sum(axis=0))\n",
      "ordering = np.argsort(frequencies)\n",
      "selection = ordering[npx.edge_and_median_indices(ordering, 10)]\n",
      "corpus.feature_names[selection]"
     ],
     "language": "python",
     "metadata": {},
     "outputs": [
      {
       "metadata": {},
       "output_type": "pyout",
       "prompt_number": 36,
       "text": [
        "array([u'littlepulga10', u'marsha', u'mars is', u'marry this',\n",
        "       u'marry that', u'marry men', u'marry is', u'married with',\n",
        "       u'married or', u'married life', u'world those', u'myjaps',\n",
        "       u'but treats', u'great new', u'christmas is', u'our private',\n",
        "       u'gets http://pbs.twimg.com/media/bip9usdcaaeia6h.jpg',\n",
        "       u'stay alive', u'seriously visit', u'great place', u'chrome steel',\n",
        "       u'my', u'is', u'this', u'and', u'a', u'to', u'you', u'the', u'i',\n",
        "       u'rt'], \n",
        "      dtype='<U200')"
       ]
      }
     ],
     "prompt_number": 36
    },
    {
     "cell_type": "code",
     "collapsed": false,
     "input": [],
     "language": "python",
     "metadata": {},
     "outputs": [
      {
       "metadata": {},
       "output_type": "pyout",
       "prompt_number": 32,
       "text": [
        "array([160,   5,   2, ...,   3,   2,   2])"
       ]
      }
     ],
     "prompt_number": 32
    },
    {
     "cell_type": "code",
     "collapsed": false,
     "input": [],
     "language": "python",
     "metadata": {},
     "outputs": [
      {
       "ename": "IndexError",
       "evalue": "index 1 is out of bounds for axis 0 with size 1",
       "output_type": "pyerr",
       "traceback": [
        "\u001b[0;31m---------------------------------------------------------------------------\u001b[0m\n\u001b[0;31mIndexError\u001b[0m                                Traceback (most recent call last)",
        "\u001b[0;32m<ipython-input-17-1ac0b7133e0e>\u001b[0m in \u001b[0;36m<module>\u001b[0;34m()\u001b[0m\n\u001b[0;32m----> 1\u001b[0;31m \u001b[0mcorpus\u001b[0m\u001b[0;34m.\u001b[0m\u001b[0mfeature_names\u001b[0m\u001b[0;34m[\u001b[0m\u001b[0mordered_features\u001b[0m\u001b[0;34m[\u001b[0m\u001b[0mselection\u001b[0m\u001b[0;34m]\u001b[0m\u001b[0;34m]\u001b[0m\u001b[0;34m\u001b[0m\u001b[0m\n\u001b[0m",
        "\u001b[0;31mIndexError\u001b[0m: index 1 is out of bounds for axis 0 with size 1"
       ]
      }
     ],
     "prompt_number": 17
    },
    {
     "cell_type": "code",
     "collapsed": false,
     "input": [],
     "language": "python",
     "metadata": {},
     "outputs": []
    }
   ],
   "metadata": {}
  }
 ]
}