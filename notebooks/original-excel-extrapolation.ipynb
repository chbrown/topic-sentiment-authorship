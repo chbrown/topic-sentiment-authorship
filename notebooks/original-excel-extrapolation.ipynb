{
 "metadata": {
  "name": ""
 },
 "nbformat": 3,
 "nbformat_minor": 0,
 "worksheets": [
  {
   "cells": [
    {
     "cell_type": "code",
     "collapsed": false,
     "input": [
      "import os\n",
      "from tsa.lib import tabular, html\n",
      "from collections import Counter\n",
      "import itertools\n",
      "# from datetime import datetime"
     ],
     "language": "python",
     "metadata": {},
     "outputs": [],
     "prompt_number": 37
    },
    {
     "cell_type": "code",
     "collapsed": false,
     "input": [
      "label_keys = ['For', 'Against', 'Neutral', 'Broken Link', 'Not Applicable']\n",
      "\n",
      "def read(filepath='%s/ohio/sb5-b.xlsx' % os.getenv('CORPORA', '.')):\n",
      "    for row in tabular.read_xlsx(filepath):\n",
      "        header = row['Tweet'] == 'Tweet' and row['Author'] == 'Author' and row['TweetID'] == 'TweetID'\n",
      "        if not header:\n",
      "            labels = [label_key for label_key in label_keys if bool(row[label_key])] + ['NA']\n",
      "            label = labels[0]\n",
      "            \n",
      "            row['label'] = label\n",
      "            row['document'] = html.unescape(row['Tweet'])\n",
      "    \n",
      "            yield row"
     ],
     "language": "python",
     "metadata": {},
     "outputs": [],
     "prompt_number": 16
    },
    {
     "cell_type": "code",
     "collapsed": false,
     "input": [
      "original_table = list(read())\n",
      "print 'Original spreadsheet: N=%d' % len(original_table)"
     ],
     "language": "python",
     "metadata": {},
     "outputs": [
      {
       "output_type": "stream",
       "stream": "stdout",
       "text": [
        "106702\n"
       ]
      }
     ],
     "prompt_number": 17
    },
    {
     "cell_type": "code",
     "collapsed": false,
     "input": [
      "for_against = [row for row in original_table if row['label'] in ('For', 'Against')]\n",
      "print 'Just For + Against: N=%d' % len(for_against)\n",
      "for_against_counts = Counter([row['label'] for row in for_against])\n",
      "print 'Against / Total {:.2%}'.format(for_against_counts['Against'] / float(len(for_against)))\n",
      "for_against_counts"
     ],
     "language": "python",
     "metadata": {},
     "outputs": [
      {
       "output_type": "stream",
       "stream": "stdout",
       "text": [
        "Just For + Against: N=13627\n",
        "Against / Total 79.56%\n"
       ]
      },
      {
       "metadata": {},
       "output_type": "pyout",
       "prompt_number": 28,
       "text": [
        "Counter({'Against': 10842, 'For': 2785})"
       ]
      }
     ],
     "prompt_number": 28
    },
    {
     "cell_type": "code",
     "collapsed": false,
     "input": [
      "for_against_manual = [row for row in for_against if row['Inferred'] != 1]\n",
      "print 'Just non-Inferred For + Against: N=%d' % len(for_against_manual)\n",
      "for_against_manual_counts = Counter([row['label'] for row in for_against_manual])\n",
      "print 'Against / Total {:.4%}'.format(\n",
      "  for_against_manual_counts['Against'] / float(len(for_against_manual)))\n",
      "for_against_manual_counts"
     ],
     "language": "python",
     "metadata": {},
     "outputs": [
      {
       "output_type": "stream",
       "stream": "stdout",
       "text": [
        "Just non-Inferred For + Against: N=4172\n",
        "Against / Total 82.4545%\n"
       ]
      },
      {
       "metadata": {},
       "output_type": "pyout",
       "prompt_number": 58,
       "text": [
        "Counter({'Against': 3440, 'For': 732})"
       ]
      }
     ],
     "prompt_number": 58
    },
    {
     "cell_type": "code",
     "collapsed": false,
     "input": [
      "Counter(row['Inferred'] for row in for_against)"
     ],
     "language": "python",
     "metadata": {},
     "outputs": [
      {
       "metadata": {},
       "output_type": "pyout",
       "prompt_number": 22,
       "text": [
        "Counter({1.0: 9455, None: 3938, 0.0: 234})"
       ]
      }
     ],
     "prompt_number": 22
    },
    {
     "cell_type": "code",
     "collapsed": false,
     "input": [
      "1 - (3440 / 10842.), 1 - (732 / 2785.)"
     ],
     "language": "python",
     "metadata": {},
     "outputs": [
      {
       "metadata": {},
       "output_type": "pyout",
       "prompt_number": 36,
       "text": [
        "(0.6827153661686036, 0.7371633752244164)"
       ]
      }
     ],
     "prompt_number": 36
    },
    {
     "cell_type": "code",
     "collapsed": false,
     "input": [
      "manual_table = [row for row in original_table if row['Inferred'] == 1]\n",
      "print 'Inferences were only made for For / Against labels:', Counter([row['label'] for row in manual_table])"
     ],
     "language": "python",
     "metadata": {},
     "outputs": [
      {
       "output_type": "stream",
       "stream": "stdout",
       "text": [
        "Inferences were only made for For / Against labels: Counter({'Against': 7402, 'For': 2053})\n"
       ]
      }
     ],
     "prompt_number": 35
    },
    {
     "cell_type": "code",
     "collapsed": false,
     "input": [
      "def author(row):\n",
      "    return row['Author']\n",
      "\n",
      "users = []\n",
      "for author, rows in itertools.groupby(sorted(original_table, key=author), author):\n",
      "    counts = Counter(row['label'] for row in rows if row['label'] in ('For', 'Against'))\n",
      "    # most_common always returns a list of (label, count) tuples\n",
      "    if len(counts) > 0:\n",
      "        users.append(counts.most_common(1)[0][0])\n",
      "user_counts = Counter(users)\n",
      "print user_counts\n",
      "print 'Against / Total {:.2%}'.format(user_counts['Against'] / float(user_counts['For'] + user_counts['Against']))"
     ],
     "language": "python",
     "metadata": {},
     "outputs": [
      {
       "output_type": "stream",
       "stream": "stdout",
       "text": [
        "Counter({'Against': 993, 'For': 195})\n",
        "Against / Total 83.59%\n"
       ]
      }
     ],
     "prompt_number": 66
    },
    {
     "cell_type": "code",
     "collapsed": false,
     "input": [
      "993+195"
     ],
     "language": "python",
     "metadata": {},
     "outputs": [
      {
       "metadata": {},
       "output_type": "pyout",
       "prompt_number": 67,
       "text": [
        "1188"
       ]
      }
     ],
     "prompt_number": 67
    }
   ],
   "metadata": {}
  }
 ]
}