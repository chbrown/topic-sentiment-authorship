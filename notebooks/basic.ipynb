{
 "metadata": {
  "name": ""
 },
 "nbformat": 3,
 "nbformat_minor": 0,
 "worksheets": [
  {
   "cells": [
    {
     "cell_type": "code",
     "collapsed": false,
     "input": [
      "import IPython\n",
      "import numpy as np\n",
      "import pandas as pd\n",
      "from tsa.science import numpy_ext as npx\n",
      "from collections import Counter\n",
      "\n",
      "import viz\n",
      "\n",
      "from sklearn import metrics, cross_validation\n",
      "from sklearn import linear_model\n",
      "\n",
      "from tsa import stdout, stderr\n",
      "from tsa.lib import tabular, datetime_extra\n",
      "from tsa.lib.timer import Timer\n",
      "from tsa.models import Source, Document, create_session\n",
      "from tsa.science import features, models, timeseries\n",
      "from tsa.science.corpora import MulticlassCorpus\n",
      "from tsa.science.plot import plt, figure_path, distinct_styles, ticker\n",
      "from tsa.science.summarization import metrics_dict, metrics_summary"
     ],
     "language": "python",
     "metadata": {},
     "outputs": [],
     "prompt_number": 1
    },
    {
     "cell_type": "code",
     "collapsed": false,
     "input": [
      "documents = Source.from_name('sb5b')\n",
      "full_corpus = MulticlassCorpus(documents)\n",
      "full_corpus.apply_labelfunc(lambda doc: doc.label)\n",
      "print full_corpus"
     ],
     "language": "python",
     "metadata": {},
     "outputs": [
      {
       "output_type": "stream",
       "stream": "stdout",
       "text": [
        "<MulticlassCorpus X = (1, 0), y = (106702,)>\n"
       ]
      }
     ],
     "prompt_number": 2
    },
    {
     "cell_type": "code",
     "collapsed": false,
     "input": [
      "polar_classes = [full_corpus.class_lookup[label] for label in ['For', 'Against']]\n",
      "polar_indices = np.in1d(full_corpus.y, polar_classes)\n",
      "polar_corpus = full_corpus.subset(rows=polar_indices)\n",
      "polar_corpus.extract_features(lambda doc: 1, features.intercept)\n",
      "polar_corpus.extract_features(lambda doc: doc.document, features.ngrams,\n",
      "    ngram_max=2, min_df=2, max_df=1.0)\n",
      "print polar_corpus"
     ],
     "language": "python",
     "metadata": {},
     "outputs": [
      {
       "output_type": "stream",
       "stream": "stdout",
       "text": [
        "<MulticlassCorpus X = (13627, 43385), y = (13627,)>\n"
       ]
      }
     ],
     "prompt_number": 3
    },
    {
     "cell_type": "code",
     "collapsed": false,
     "input": [
      "def test(corpus, n_iter=20, penalty='l2'):\n",
      "    folds = cross_validation.StratifiedShuffleSplit(corpus.y, test_size=0.1, n_iter=n_iter)\n",
      "    for train_indices, test_indices in folds:\n",
      "        train_corpus = corpus.subset(train_indices)\n",
      "        test_corpus = corpus.subset(test_indices)\n",
      "\n",
      "        model = linear_model.LogisticRegression(fit_intercept=False, penalty=penalty)\n",
      "        model.fit(train_corpus.X, train_corpus.y)\n",
      "        pred_y = model.predict(test_corpus.X)\n",
      "        yield metrics.accuracy_score(test_corpus.y, pred_y)"
     ],
     "language": "python",
     "metadata": {},
     "outputs": [],
     "prompt_number": 8
    },
    {
     "cell_type": "code",
     "collapsed": false,
     "input": [
      "accuracies = list(test(polar_corpus))\n",
      "print 'Mean accuracy: {:.1%}'.format(np.mean(accuracies))"
     ],
     "language": "python",
     "metadata": {},
     "outputs": [
      {
       "output_type": "stream",
       "stream": "stdout",
       "text": [
        "Mean accuracy: 96.2%\n"
       ]
      }
     ],
     "prompt_number": 10
    }
   ],
   "metadata": {}
  }
 ]
}